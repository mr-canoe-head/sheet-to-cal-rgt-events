{
  "nbformat": 4,
  "nbformat_minor": 0,
  "metadata": {
    "colab": {
      "name": "Untitled0.ipynb",
      "provenance": [],
      "authorship_tag": "ABX9TyOJerXcIK5b6qkMuoYYgbRq",
      "include_colab_link": true
    },
    "kernelspec": {
      "name": "python3",
      "display_name": "Python 3"
    }
  },
  "cells": [
    {
      "cell_type": "markdown",
      "metadata": {
        "id": "view-in-github",
        "colab_type": "text"
      },
      "source": [
        "<a href=\"https://colab.research.google.com/github/mr-canoe-head/sheet-to-cal-rgt-events/blob/main/notebook-sheet-to-cal.ipynb\" target=\"_parent\"><img src=\"https://colab.research.google.com/assets/colab-badge.svg\" alt=\"Open In Colab\"/></a>"
      ]
    },
    {
      "cell_type": "markdown",
      "metadata": {
        "id": "pRLeXVFS28Ls"
      },
      "source": [
        "API to use Google sheets - example: https://colab.research.google.com/notebooks/io.ipynb#scrollTo=sOm9PFrT8mGG"
      ]
    },
    {
      "cell_type": "code",
      "metadata": {
        "colab": {
          "base_uri": "https://localhost:8080/",
          "height": 477
        },
        "id": "8nVT8acb25ji",
        "outputId": "24938033-a596-4eb8-baf2-64d4cec61de0"
      },
      "source": [
        "!pip install --upgrade gspread"
      ],
      "execution_count": 5,
      "outputs": [
        {
          "output_type": "stream",
          "text": [
            "Collecting gspread\n",
            "  Downloading https://files.pythonhosted.org/packages/9c/ba/bc8de4f5077bd34bc873bdd67a89cb29c4f181abba8a836d2c6a0a142365/gspread-3.6.0-py3-none-any.whl\n",
            "Requirement already satisfied, skipping upgrade: requests>=2.2.1 in /usr/local/lib/python3.6/dist-packages (from gspread) (2.23.0)\n",
            "Requirement already satisfied, skipping upgrade: google-auth>=1.12.0 in /usr/local/lib/python3.6/dist-packages (from gspread) (1.17.2)\n",
            "Requirement already satisfied, skipping upgrade: google-auth-oauthlib>=0.4.1 in /usr/local/lib/python3.6/dist-packages (from gspread) (0.4.2)\n",
            "Requirement already satisfied, skipping upgrade: certifi>=2017.4.17 in /usr/local/lib/python3.6/dist-packages (from requests>=2.2.1->gspread) (2020.6.20)\n",
            "Requirement already satisfied, skipping upgrade: urllib3!=1.25.0,!=1.25.1,<1.26,>=1.21.1 in /usr/local/lib/python3.6/dist-packages (from requests>=2.2.1->gspread) (1.24.3)\n",
            "Requirement already satisfied, skipping upgrade: idna<3,>=2.5 in /usr/local/lib/python3.6/dist-packages (from requests>=2.2.1->gspread) (2.10)\n",
            "Requirement already satisfied, skipping upgrade: chardet<4,>=3.0.2 in /usr/local/lib/python3.6/dist-packages (from requests>=2.2.1->gspread) (3.0.4)\n",
            "Requirement already satisfied, skipping upgrade: six>=1.9.0 in /usr/local/lib/python3.6/dist-packages (from google-auth>=1.12.0->gspread) (1.15.0)\n",
            "Requirement already satisfied, skipping upgrade: setuptools>=40.3.0 in /usr/local/lib/python3.6/dist-packages (from google-auth>=1.12.0->gspread) (50.3.2)\n",
            "Requirement already satisfied, skipping upgrade: rsa<5,>=3.1.4; python_version >= \"3\" in /usr/local/lib/python3.6/dist-packages (from google-auth>=1.12.0->gspread) (4.6)\n",
            "Requirement already satisfied, skipping upgrade: cachetools<5.0,>=2.0.0 in /usr/local/lib/python3.6/dist-packages (from google-auth>=1.12.0->gspread) (4.1.1)\n",
            "Requirement already satisfied, skipping upgrade: pyasn1-modules>=0.2.1 in /usr/local/lib/python3.6/dist-packages (from google-auth>=1.12.0->gspread) (0.2.8)\n",
            "Requirement already satisfied, skipping upgrade: requests-oauthlib>=0.7.0 in /usr/local/lib/python3.6/dist-packages (from google-auth-oauthlib>=0.4.1->gspread) (1.3.0)\n",
            "Requirement already satisfied, skipping upgrade: pyasn1>=0.1.3 in /usr/local/lib/python3.6/dist-packages (from rsa<5,>=3.1.4; python_version >= \"3\"->google-auth>=1.12.0->gspread) (0.4.8)\n",
            "Requirement already satisfied, skipping upgrade: oauthlib>=3.0.0 in /usr/local/lib/python3.6/dist-packages (from requests-oauthlib>=0.7.0->google-auth-oauthlib>=0.4.1->gspread) (3.1.0)\n",
            "Installing collected packages: gspread\n",
            "  Found existing installation: gspread 3.0.1\n",
            "    Uninstalling gspread-3.0.1:\n",
            "      Successfully uninstalled gspread-3.0.1\n",
            "Successfully installed gspread-3.6.0\n"
          ],
          "name": "stdout"
        },
        {
          "output_type": "display_data",
          "data": {
            "application/vnd.colab-display-data+json": {
              "pip_warning": {
                "packages": [
                  "gspread"
                ]
              }
            }
          },
          "metadata": {
            "tags": []
          }
        }
      ]
    },
    {
      "cell_type": "code",
      "metadata": {
        "id": "gfag_jv6V9Ea",
        "outputId": "ac99deb6-046f-43c5-b1f6-8f79d8471ad8",
        "colab": {
          "base_uri": "https://localhost:8080/"
        }
      },
      "source": [
        "!pip install --upgrade gcsa"
      ],
      "execution_count": 1,
      "outputs": [
        {
          "output_type": "stream",
          "text": [
            "Requirement already up-to-date: gcsa in /usr/local/lib/python3.6/dist-packages (0.4.0)\n",
            "Requirement already satisfied, skipping upgrade: google-auth-httplib2>=0.0.4 in /usr/local/lib/python3.6/dist-packages (from gcsa) (0.0.4)\n",
            "Requirement already satisfied, skipping upgrade: python-dateutil>=2.7 in /usr/local/lib/python3.6/dist-packages (from gcsa) (2.8.1)\n",
            "Requirement already satisfied, skipping upgrade: beautiful-date>=1.0.1 in /usr/local/lib/python3.6/dist-packages (from gcsa) (2.0.0)\n",
            "Requirement already satisfied, skipping upgrade: google-api-python-client>=1.8 in /usr/local/lib/python3.6/dist-packages (from gcsa) (1.12.8)\n",
            "Requirement already satisfied, skipping upgrade: google-auth-oauthlib<0.5,>=0.4 in /usr/local/lib/python3.6/dist-packages (from gcsa) (0.4.2)\n",
            "Requirement already satisfied, skipping upgrade: tzlocal<3,>=2 in /usr/local/lib/python3.6/dist-packages (from gcsa) (2.1)\n",
            "Requirement already satisfied, skipping upgrade: httplib2>=0.9.1 in /usr/local/lib/python3.6/dist-packages (from google-auth-httplib2>=0.0.4->gcsa) (0.17.4)\n",
            "Requirement already satisfied, skipping upgrade: six in /usr/local/lib/python3.6/dist-packages (from google-auth-httplib2>=0.0.4->gcsa) (1.15.0)\n",
            "Requirement already satisfied, skipping upgrade: google-auth in /usr/local/lib/python3.6/dist-packages (from google-auth-httplib2>=0.0.4->gcsa) (1.17.2)\n",
            "Requirement already satisfied, skipping upgrade: google-api-core<2dev,>=1.21.0 in /usr/local/lib/python3.6/dist-packages (from google-api-python-client>=1.8->gcsa) (1.23.0)\n",
            "Requirement already satisfied, skipping upgrade: uritemplate<4dev,>=3.0.0 in /usr/local/lib/python3.6/dist-packages (from google-api-python-client>=1.8->gcsa) (3.0.1)\n",
            "Requirement already satisfied, skipping upgrade: requests-oauthlib>=0.7.0 in /usr/local/lib/python3.6/dist-packages (from google-auth-oauthlib<0.5,>=0.4->gcsa) (1.3.0)\n",
            "Requirement already satisfied, skipping upgrade: pytz in /usr/local/lib/python3.6/dist-packages (from tzlocal<3,>=2->gcsa) (2018.9)\n",
            "Requirement already satisfied, skipping upgrade: setuptools>=40.3.0 in /usr/local/lib/python3.6/dist-packages (from google-auth->google-auth-httplib2>=0.0.4->gcsa) (50.3.2)\n",
            "Requirement already satisfied, skipping upgrade: pyasn1-modules>=0.2.1 in /usr/local/lib/python3.6/dist-packages (from google-auth->google-auth-httplib2>=0.0.4->gcsa) (0.2.8)\n",
            "Requirement already satisfied, skipping upgrade: rsa<5,>=3.1.4; python_version >= \"3\" in /usr/local/lib/python3.6/dist-packages (from google-auth->google-auth-httplib2>=0.0.4->gcsa) (4.6)\n",
            "Requirement already satisfied, skipping upgrade: cachetools<5.0,>=2.0.0 in /usr/local/lib/python3.6/dist-packages (from google-auth->google-auth-httplib2>=0.0.4->gcsa) (4.1.1)\n",
            "Requirement already satisfied, skipping upgrade: protobuf>=3.12.0 in /usr/local/lib/python3.6/dist-packages (from google-api-core<2dev,>=1.21.0->google-api-python-client>=1.8->gcsa) (3.12.4)\n",
            "Requirement already satisfied, skipping upgrade: requests<3.0.0dev,>=2.18.0 in /usr/local/lib/python3.6/dist-packages (from google-api-core<2dev,>=1.21.0->google-api-python-client>=1.8->gcsa) (2.23.0)\n",
            "Requirement already satisfied, skipping upgrade: googleapis-common-protos<2.0dev,>=1.6.0 in /usr/local/lib/python3.6/dist-packages (from google-api-core<2dev,>=1.21.0->google-api-python-client>=1.8->gcsa) (1.52.0)\n",
            "Requirement already satisfied, skipping upgrade: oauthlib>=3.0.0 in /usr/local/lib/python3.6/dist-packages (from requests-oauthlib>=0.7.0->google-auth-oauthlib<0.5,>=0.4->gcsa) (3.1.0)\n",
            "Requirement already satisfied, skipping upgrade: pyasn1<0.5.0,>=0.4.6 in /usr/local/lib/python3.6/dist-packages (from pyasn1-modules>=0.2.1->google-auth->google-auth-httplib2>=0.0.4->gcsa) (0.4.8)\n",
            "Requirement already satisfied, skipping upgrade: idna<3,>=2.5 in /usr/local/lib/python3.6/dist-packages (from requests<3.0.0dev,>=2.18.0->google-api-core<2dev,>=1.21.0->google-api-python-client>=1.8->gcsa) (2.10)\n",
            "Requirement already satisfied, skipping upgrade: chardet<4,>=3.0.2 in /usr/local/lib/python3.6/dist-packages (from requests<3.0.0dev,>=2.18.0->google-api-core<2dev,>=1.21.0->google-api-python-client>=1.8->gcsa) (3.0.4)\n",
            "Requirement already satisfied, skipping upgrade: certifi>=2017.4.17 in /usr/local/lib/python3.6/dist-packages (from requests<3.0.0dev,>=2.18.0->google-api-core<2dev,>=1.21.0->google-api-python-client>=1.8->gcsa) (2020.6.20)\n",
            "Requirement already satisfied, skipping upgrade: urllib3!=1.25.0,!=1.25.1,<1.26,>=1.21.1 in /usr/local/lib/python3.6/dist-packages (from requests<3.0.0dev,>=2.18.0->google-api-core<2dev,>=1.21.0->google-api-python-client>=1.8->gcsa) (1.24.3)\n"
          ],
          "name": "stdout"
        }
      ]
    },
    {
      "cell_type": "code",
      "metadata": {
        "id": "4KIi2NQR3U0r"
      },
      "source": [
        "from google.colab import auth\n",
        "auth.authenticate_user()\n",
        "\n",
        "import gspread\n",
        "from oauth2client.client import GoogleCredentials\n",
        "\n",
        "creds = GoogleCredentials.get_application_default()\n",
        "cred2 = creds.create_scoped( ['https://www.googleapis.com/auth/calendar'])\n",
        "cred2\n",
        "\n",
        "gc = gspread.authorize(cred2)"
      ],
      "execution_count": 34,
      "outputs": []
    },
    {
      "cell_type": "code",
      "metadata": {
        "id": "9fTx0eljzxf6",
        "outputId": "39d1f678-e572-4d45-f805-3aa005e6104d",
        "colab": {
          "base_uri": "https://localhost:8080/"
        }
      },
      "source": [
        ""
      ],
      "execution_count": 31,
      "outputs": [
        {
          "output_type": "execute_result",
          "data": {
            "text/plain": [
              "<oauth2client.client.GoogleCredentials at 0x7f92d09e4be0>"
            ]
          },
          "metadata": {
            "tags": []
          },
          "execution_count": 31
        }
      ]
    },
    {
      "cell_type": "code",
      "metadata": {
        "id": "hZPH4EtORhm9",
        "outputId": "f819acf4-767e-412c-dff8-34933580d872",
        "colab": {
          "base_uri": "https://localhost:8080/",
          "height": 419
        }
      },
      "source": [
        "SAMPLE_SPREADSHEET_ID = '1SG5HGFDEl71RQOhdprxiabxa-rJzxn7CM5p1tHR5Sx0'\n",
        "SAMPLE_RANGE_NAME = 'Events!A5:N'\n",
        "\n",
        "worksheet = gc.open_by_key(SAMPLE_SPREADSHEET_ID).sheet1\n",
        "rows = worksheet.get_all_values()\n",
        "\n",
        "import pandas as pd\n",
        "#df = pd.DataFrame.from_records(rows)\n",
        "\n",
        "rows_truncated = worksheet.get('A6:N')\n",
        "\n",
        "df = pd.DataFrame.from_records(rows_truncated)\n",
        "df"
      ],
      "execution_count": 35,
      "outputs": [
        {
          "output_type": "execute_result",
          "data": {
            "text/html": [
              "<div>\n",
              "<style scoped>\n",
              "    .dataframe tbody tr th:only-of-type {\n",
              "        vertical-align: middle;\n",
              "    }\n",
              "\n",
              "    .dataframe tbody tr th {\n",
              "        vertical-align: top;\n",
              "    }\n",
              "\n",
              "    .dataframe thead th {\n",
              "        text-align: right;\n",
              "    }\n",
              "</style>\n",
              "<table border=\"1\" class=\"dataframe\">\n",
              "  <thead>\n",
              "    <tr style=\"text-align: right;\">\n",
              "      <th></th>\n",
              "      <th>0</th>\n",
              "      <th>1</th>\n",
              "      <th>2</th>\n",
              "      <th>3</th>\n",
              "      <th>4</th>\n",
              "      <th>5</th>\n",
              "      <th>6</th>\n",
              "      <th>7</th>\n",
              "      <th>8</th>\n",
              "      <th>9</th>\n",
              "      <th>10</th>\n",
              "      <th>11</th>\n",
              "      <th>12</th>\n",
              "      <th>13</th>\n",
              "    </tr>\n",
              "  </thead>\n",
              "  <tbody>\n",
              "    <tr>\n",
              "      <th>0</th>\n",
              "      <td>Weds</td>\n",
              "      <td>07-Oct-20</td>\n",
              "      <td>7:30 pm</td>\n",
              "      <td>8:30 pm</td>\n",
              "      <td>2:30 pm</td>\n",
              "      <td>6:30 am</td>\n",
              "      <td>Westerly VR Race 12</td>\n",
              "      <td>Dibley Doo Dah, UK</td>\n",
              "      <td>16.4</td>\n",
              "      <td>109</td>\n",
              "      <td>Road Race</td>\n",
              "      <td>92</td>\n",
              "      <td>http://app.rgtcycling.com/event?code=mC57wZab3s</td>\n",
              "      <td>None</td>\n",
              "    </tr>\n",
              "    <tr>\n",
              "      <th>1</th>\n",
              "      <td>Weds</td>\n",
              "      <td>07-Oct-20</td>\n",
              "      <td>8:00 pm</td>\n",
              "      <td>9:00 pm</td>\n",
              "      <td>3:00 pm</td>\n",
              "      <td>7:00 am</td>\n",
              "      <td>AEST Early Race 6</td>\n",
              "      <td>Landsdowne, Australia</td>\n",
              "      <td>24.3</td>\n",
              "      <td>276</td>\n",
              "      <td>Crit Race (12)</td>\n",
              "      <td>10</td>\n",
              "      <td>http://app.rgtcycling.com/event?code=OnjsOsIGtz</td>\n",
              "      <td>None</td>\n",
              "    </tr>\n",
              "    <tr>\n",
              "      <th>2</th>\n",
              "      <td>Weds</td>\n",
              "      <td>08-Oct-20</td>\n",
              "      <td>12:00 am</td>\n",
              "      <td>1:00 am</td>\n",
              "      <td>7:00 pm</td>\n",
              "      <td>11:00 am</td>\n",
              "      <td>USA Evening Race</td>\n",
              "      <td>Borrego Springs, USA</td>\n",
              "      <td>23.2</td>\n",
              "      <td>57</td>\n",
              "      <td>Crit Race (3)</td>\n",
              "      <td>10</td>\n",
              "      <td>http://app.rgtcycling.com/event?code=7oIv3DvNLN</td>\n",
              "      <td>None</td>\n",
              "    </tr>\n",
              "    <tr>\n",
              "      <th>3</th>\n",
              "      <td>Thurs</td>\n",
              "      <td>08-Oct-20</td>\n",
              "      <td>5:00 am</td>\n",
              "      <td>6:00 am</td>\n",
              "      <td>12:00 am</td>\n",
              "      <td>2:00 pm</td>\n",
              "      <td>Sweet Spot Group Workout</td>\n",
              "      <td>Canary Wharf</td>\n",
              "      <td>1 hour</td>\n",
              "      <td>-</td>\n",
              "      <td>SST Group WO</td>\n",
              "      <td>2</td>\n",
              "      <td>http://app.rgtcycling.com/event?code=8p6k43mWKT</td>\n",
              "      <td>7x6 minutes Sweeto spot intervals within 88-94...</td>\n",
              "    </tr>\n",
              "    <tr>\n",
              "      <th>4</th>\n",
              "      <td>Thurs</td>\n",
              "      <td>08-Oct-20</td>\n",
              "      <td>6:30 pm</td>\n",
              "      <td>7:30 pm</td>\n",
              "      <td>1:30 pm</td>\n",
              "      <td>5:30 am</td>\n",
              "      <td>ZRG THRSDY Crit Series 2 of 7</td>\n",
              "      <td>Civic Centre Crit, USA</td>\n",
              "      <td>37.9</td>\n",
              "      <td>440</td>\n",
              "      <td>Crit Race (40)</td>\n",
              "      <td>26</td>\n",
              "      <td>http://app.rgtcycling.com/event?code=nWji4fDw</td>\n",
              "      <td>None</td>\n",
              "    </tr>\n",
              "    <tr>\n",
              "      <th>...</th>\n",
              "      <td>...</td>\n",
              "      <td>...</td>\n",
              "      <td>...</td>\n",
              "      <td>...</td>\n",
              "      <td>...</td>\n",
              "      <td>...</td>\n",
              "      <td>...</td>\n",
              "      <td>...</td>\n",
              "      <td>...</td>\n",
              "      <td>...</td>\n",
              "      <td>...</td>\n",
              "      <td>...</td>\n",
              "      <td>...</td>\n",
              "      <td>...</td>\n",
              "    </tr>\n",
              "    <tr>\n",
              "      <th>124</th>\n",
              "      <td>Weds</td>\n",
              "      <td>17-Mar-21</td>\n",
              "      <td>7:30 pm</td>\n",
              "      <td>8:30 pm</td>\n",
              "      <td>2:30 pm</td>\n",
              "      <td>6:30 am</td>\n",
              "      <td>WESTERLEY VR Race 2.11</td>\n",
              "      <td>TBC</td>\n",
              "      <td>16.0</td>\n",
              "      <td>TBC</td>\n",
              "      <td>Road Race</td>\n",
              "      <td></td>\n",
              "      <td>TBC</td>\n",
              "      <td>Fast and Furious WESTERLEY VR 16km races - Cou...</td>\n",
              "    </tr>\n",
              "    <tr>\n",
              "      <th>125</th>\n",
              "      <td>Weds</td>\n",
              "      <td>31-Mar-21</td>\n",
              "      <td>7:30 pm</td>\n",
              "      <td>8:30 pm</td>\n",
              "      <td>2:30 pm</td>\n",
              "      <td>6:30 am</td>\n",
              "      <td>WESTERLEY VR Race 2.12</td>\n",
              "      <td>TBC</td>\n",
              "      <td>16.0</td>\n",
              "      <td>TBC</td>\n",
              "      <td>Road Race</td>\n",
              "      <td></td>\n",
              "      <td>TBC</td>\n",
              "      <td>Fast and Furious WESTERLEY VR 16km races - Cou...</td>\n",
              "    </tr>\n",
              "    <tr>\n",
              "      <th>126</th>\n",
              "      <td>Weds</td>\n",
              "      <td>18-Nov-20</td>\n",
              "      <td>5:00 am</td>\n",
              "      <td>6:00 am</td>\n",
              "      <td>12:00 am</td>\n",
              "      <td>4:00 pm</td>\n",
              "      <td>Wednesday Fasted Ride - Group Workout</td>\n",
              "      <td>Canary Wharf</td>\n",
              "      <td>45 mins</td>\n",
              "      <td>-</td>\n",
              "      <td>Group Workout</td>\n",
              "      <td></td>\n",
              "      <td>http://app.rgtcycling.com/event?code=FUQy5RvTqt</td>\n",
              "      <td>Fasted endurance ride in Z2</td>\n",
              "    </tr>\n",
              "    <tr>\n",
              "      <th>127</th>\n",
              "      <td>Thursday</td>\n",
              "      <td>19-Nov-20</td>\n",
              "      <td>4:45 am</td>\n",
              "      <td>5:45 am</td>\n",
              "      <td>11:45 pm</td>\n",
              "      <td>3:45 pm</td>\n",
              "      <td>Thursday Sweet Spot AM - Group Workout</td>\n",
              "      <td>Canary Wharf</td>\n",
              "      <td>76 mins</td>\n",
              "      <td>-</td>\n",
              "      <td>Group Workout</td>\n",
              "      <td></td>\n",
              "      <td>http://app.rgtcycling.com/event?code=104uKueUoE</td>\n",
              "      <td>Sweet spot group workout 4x12mins  in 88-94% FTP</td>\n",
              "    </tr>\n",
              "    <tr>\n",
              "      <th>128</th>\n",
              "      <td>Thursday</td>\n",
              "      <td>19-Nov-20</td>\n",
              "      <td>4:00 pm</td>\n",
              "      <td>5:00 pm</td>\n",
              "      <td>11:00 am</td>\n",
              "      <td>3:00 am</td>\n",
              "      <td>Thursday Sweet Spot PM - Group Workout</td>\n",
              "      <td>Canary Wharf</td>\n",
              "      <td>76 mins</td>\n",
              "      <td>-</td>\n",
              "      <td>Group Workout</td>\n",
              "      <td></td>\n",
              "      <td>http://app.rgtcycling.com/event?code=Yw5tUfkT76</td>\n",
              "      <td>Sweet spot group workout 4x12mins  in 88-94% FTP</td>\n",
              "    </tr>\n",
              "  </tbody>\n",
              "</table>\n",
              "<p>129 rows × 14 columns</p>\n",
              "</div>"
            ],
            "text/plain": [
              "           0   ...                                                 13\n",
              "0        Weds  ...                                               None\n",
              "1        Weds  ...                                               None\n",
              "2        Weds  ...                                               None\n",
              "3       Thurs  ...  7x6 minutes Sweeto spot intervals within 88-94...\n",
              "4       Thurs  ...                                               None\n",
              "..        ...  ...                                                ...\n",
              "124      Weds  ...  Fast and Furious WESTERLEY VR 16km races - Cou...\n",
              "125      Weds  ...  Fast and Furious WESTERLEY VR 16km races - Cou...\n",
              "126      Weds  ...                        Fasted endurance ride in Z2\n",
              "127  Thursday  ...   Sweet spot group workout 4x12mins  in 88-94% FTP\n",
              "128  Thursday  ...   Sweet spot group workout 4x12mins  in 88-94% FTP\n",
              "\n",
              "[129 rows x 14 columns]"
            ]
          },
          "metadata": {
            "tags": []
          },
          "execution_count": 35
        }
      ]
    },
    {
      "cell_type": "code",
      "metadata": {
        "id": "Q2gncjLgVFM7"
      },
      "source": [
        "df['dates'] = pd.to_datetime(df[1])\n",
        "df['timestamp'] = pd.to_datetime(df[1] + ' ' + df[2] )"
      ],
      "execution_count": 11,
      "outputs": []
    },
    {
      "cell_type": "code",
      "metadata": {
        "id": "ybjnb71bv6rs",
        "outputId": "fe11ffe0-30af-4f1e-c896-495b1022e8ef",
        "colab": {
          "base_uri": "https://localhost:8080/",
          "height": 392
        }
      },
      "source": [
        "from googleapiclient import discovery\n",
        "\n",
        "SCOPES = ['https://www.googleapis.com/auth/calendar']\n",
        "\n",
        "calendar = discovery.build('calendar','v3', credentials=cred2)\n",
        "\n",
        "CAL='3e8gau8bommfjk33j92rv5k7q0@group.calendar.google.com'\n",
        "\n",
        "events_result = calendar.events().list(calendarId=CAL, \n",
        "                                     #  timeMin=hago,\n",
        "                                      maxResults=10, \n",
        "                                       singleEvents=True,\n",
        "                                       orderBy='startTime').execute()\n",
        "events = events_result.get('items', [])\n",
        "events"
      ],
      "execution_count": 36,
      "outputs": [
        {
          "output_type": "error",
          "ename": "HttpError",
          "evalue": "ignored",
          "traceback": [
            "\u001b[0;31m---------------------------------------------------------------------------\u001b[0m",
            "\u001b[0;31mHttpError\u001b[0m                                 Traceback (most recent call last)",
            "\u001b[0;32m<ipython-input-36-07c4d1874596>\u001b[0m in \u001b[0;36m<module>\u001b[0;34m()\u001b[0m\n\u001b[1;32m     11\u001b[0m                                       \u001b[0mmaxResults\u001b[0m\u001b[0;34m=\u001b[0m\u001b[0;36m10\u001b[0m\u001b[0;34m,\u001b[0m\u001b[0;34m\u001b[0m\u001b[0;34m\u001b[0m\u001b[0m\n\u001b[1;32m     12\u001b[0m                                        \u001b[0msingleEvents\u001b[0m\u001b[0;34m=\u001b[0m\u001b[0;32mTrue\u001b[0m\u001b[0;34m,\u001b[0m\u001b[0;34m\u001b[0m\u001b[0;34m\u001b[0m\u001b[0m\n\u001b[0;32m---> 13\u001b[0;31m                                        orderBy='startTime').execute()\n\u001b[0m\u001b[1;32m     14\u001b[0m \u001b[0mevents\u001b[0m \u001b[0;34m=\u001b[0m \u001b[0mevents_result\u001b[0m\u001b[0;34m.\u001b[0m\u001b[0mget\u001b[0m\u001b[0;34m(\u001b[0m\u001b[0;34m'items'\u001b[0m\u001b[0;34m,\u001b[0m \u001b[0;34m[\u001b[0m\u001b[0;34m]\u001b[0m\u001b[0;34m)\u001b[0m\u001b[0;34m\u001b[0m\u001b[0;34m\u001b[0m\u001b[0m\n\u001b[1;32m     15\u001b[0m \u001b[0mevents\u001b[0m\u001b[0;34m\u001b[0m\u001b[0;34m\u001b[0m\u001b[0m\n",
            "\u001b[0;32m/usr/local/lib/python3.6/dist-packages/googleapiclient/_helpers.py\u001b[0m in \u001b[0;36mpositional_wrapper\u001b[0;34m(*args, **kwargs)\u001b[0m\n\u001b[1;32m    132\u001b[0m                 \u001b[0;32melif\u001b[0m \u001b[0mpositional_parameters_enforcement\u001b[0m \u001b[0;34m==\u001b[0m \u001b[0mPOSITIONAL_WARNING\u001b[0m\u001b[0;34m:\u001b[0m\u001b[0;34m\u001b[0m\u001b[0;34m\u001b[0m\u001b[0m\n\u001b[1;32m    133\u001b[0m                     \u001b[0mlogger\u001b[0m\u001b[0;34m.\u001b[0m\u001b[0mwarning\u001b[0m\u001b[0;34m(\u001b[0m\u001b[0mmessage\u001b[0m\u001b[0;34m)\u001b[0m\u001b[0;34m\u001b[0m\u001b[0;34m\u001b[0m\u001b[0m\n\u001b[0;32m--> 134\u001b[0;31m             \u001b[0;32mreturn\u001b[0m \u001b[0mwrapped\u001b[0m\u001b[0;34m(\u001b[0m\u001b[0;34m*\u001b[0m\u001b[0margs\u001b[0m\u001b[0;34m,\u001b[0m \u001b[0;34m**\u001b[0m\u001b[0mkwargs\u001b[0m\u001b[0;34m)\u001b[0m\u001b[0;34m\u001b[0m\u001b[0;34m\u001b[0m\u001b[0m\n\u001b[0m\u001b[1;32m    135\u001b[0m \u001b[0;34m\u001b[0m\u001b[0m\n\u001b[1;32m    136\u001b[0m         \u001b[0;32mreturn\u001b[0m \u001b[0mpositional_wrapper\u001b[0m\u001b[0;34m\u001b[0m\u001b[0;34m\u001b[0m\u001b[0m\n",
            "\u001b[0;32m/usr/local/lib/python3.6/dist-packages/googleapiclient/http.py\u001b[0m in \u001b[0;36mexecute\u001b[0;34m(self, http, num_retries)\u001b[0m\n\u001b[1;32m    913\u001b[0m             \u001b[0mcallback\u001b[0m\u001b[0;34m(\u001b[0m\u001b[0mresp\u001b[0m\u001b[0;34m)\u001b[0m\u001b[0;34m\u001b[0m\u001b[0;34m\u001b[0m\u001b[0m\n\u001b[1;32m    914\u001b[0m         \u001b[0;32mif\u001b[0m \u001b[0mresp\u001b[0m\u001b[0;34m.\u001b[0m\u001b[0mstatus\u001b[0m \u001b[0;34m>=\u001b[0m \u001b[0;36m300\u001b[0m\u001b[0;34m:\u001b[0m\u001b[0;34m\u001b[0m\u001b[0;34m\u001b[0m\u001b[0m\n\u001b[0;32m--> 915\u001b[0;31m             \u001b[0;32mraise\u001b[0m \u001b[0mHttpError\u001b[0m\u001b[0;34m(\u001b[0m\u001b[0mresp\u001b[0m\u001b[0;34m,\u001b[0m \u001b[0mcontent\u001b[0m\u001b[0;34m,\u001b[0m \u001b[0muri\u001b[0m\u001b[0;34m=\u001b[0m\u001b[0mself\u001b[0m\u001b[0;34m.\u001b[0m\u001b[0muri\u001b[0m\u001b[0;34m)\u001b[0m\u001b[0;34m\u001b[0m\u001b[0;34m\u001b[0m\u001b[0m\n\u001b[0m\u001b[1;32m    916\u001b[0m         \u001b[0;32mreturn\u001b[0m \u001b[0mself\u001b[0m\u001b[0;34m.\u001b[0m\u001b[0mpostproc\u001b[0m\u001b[0;34m(\u001b[0m\u001b[0mresp\u001b[0m\u001b[0;34m,\u001b[0m \u001b[0mcontent\u001b[0m\u001b[0;34m)\u001b[0m\u001b[0;34m\u001b[0m\u001b[0;34m\u001b[0m\u001b[0m\n\u001b[1;32m    917\u001b[0m \u001b[0;34m\u001b[0m\u001b[0m\n",
            "\u001b[0;31mHttpError\u001b[0m: <HttpError 403 when requesting https://www.googleapis.com/calendar/v3/calendars/3e8gau8bommfjk33j92rv5k7q0%40group.calendar.google.com/events?maxResults=10&singleEvents=true&orderBy=startTime&alt=json returned \"Request had insufficient authentication scopes.\". Details: \"Request had insufficient authentication scopes.\">"
          ]
        }
      ]
    },
    {
      "cell_type": "code",
      "metadata": {
        "id": "N3t4VR7DuD_o",
        "outputId": "98614bac-1af7-4d9f-9442-754b37c004a1",
        "colab": {
          "base_uri": "https://localhost:8080/"
        }
      },
      "source": [
        "df['timestamp']"
      ],
      "execution_count": 12,
      "outputs": [
        {
          "output_type": "execute_result",
          "data": {
            "text/plain": [
              "0     2020-10-07 19:30:00\n",
              "1     2020-10-07 20:00:00\n",
              "2     2020-10-08 00:00:00\n",
              "3     2020-10-08 05:00:00\n",
              "4     2020-10-08 18:30:00\n",
              "              ...        \n",
              "124   2021-03-17 19:30:00\n",
              "125   2021-03-31 19:30:00\n",
              "126   2020-11-18 05:00:00\n",
              "127   2020-11-19 04:45:00\n",
              "128   2020-11-19 16:00:00\n",
              "Name: timestamp, Length: 129, dtype: datetime64[ns]"
            ]
          },
          "metadata": {
            "tags": []
          },
          "execution_count": 12
        }
      ]
    },
    {
      "cell_type": "code",
      "metadata": {
        "id": "HeQE-VeUW9BJ",
        "outputId": "473f8b9d-9821-4eeb-b24d-5106c46719a5",
        "colab": {
          "base_uri": "https://localhost:8080/",
          "height": 375
        }
      },
      "source": [
        "from gcsa.event import Event\n",
        "from gcsa.google_calendar import GoogleCalendar\n",
        "\n",
        "EMAIL_FOR_CAL = '3e8gau8bommfjk33j92rv5k7q0@group.calendar.google.com'\n",
        "\n",
        "calendar = GoogleCalendar(EMAIL_FOR_CAL)\n",
        "\n",
        "for event in calendar:\n",
        "    print(event)"
      ],
      "execution_count": 5,
      "outputs": [
        {
          "output_type": "error",
          "ename": "FileNotFoundError",
          "evalue": "ignored",
          "traceback": [
            "\u001b[0;31m---------------------------------------------------------------------------\u001b[0m",
            "\u001b[0;31mFileNotFoundError\u001b[0m                         Traceback (most recent call last)",
            "\u001b[0;32m<ipython-input-5-a8740a980fd6>\u001b[0m in \u001b[0;36m<module>\u001b[0;34m()\u001b[0m\n\u001b[1;32m      8\u001b[0m \u001b[0mEMAIL_FOR_CAL\u001b[0m \u001b[0;34m=\u001b[0m \u001b[0;34m'3e8gau8bommfjk33j92rv5k7q0@group.calendar.google.com'\u001b[0m\u001b[0;34m\u001b[0m\u001b[0;34m\u001b[0m\u001b[0m\n\u001b[1;32m      9\u001b[0m \u001b[0;34m\u001b[0m\u001b[0m\n\u001b[0;32m---> 10\u001b[0;31m \u001b[0mcalendar\u001b[0m \u001b[0;34m=\u001b[0m \u001b[0mGoogleCalendar\u001b[0m\u001b[0;34m(\u001b[0m\u001b[0mEMAIL_FOR_CAL\u001b[0m\u001b[0;34m)\u001b[0m\u001b[0;34m\u001b[0m\u001b[0;34m\u001b[0m\u001b[0m\n\u001b[0m\u001b[1;32m     11\u001b[0m \u001b[0;34m\u001b[0m\u001b[0m\n\u001b[1;32m     12\u001b[0m \u001b[0;32mfor\u001b[0m \u001b[0mevent\u001b[0m \u001b[0;32min\u001b[0m \u001b[0mcalendar\u001b[0m\u001b[0;34m:\u001b[0m\u001b[0;34m\u001b[0m\u001b[0;34m\u001b[0m\u001b[0m\n",
            "\u001b[0;32m/usr/local/lib/python3.6/dist-packages/gcsa/google_calendar.py\u001b[0m in \u001b[0;36m__init__\u001b[0;34m(self, calendar, credentials_path, read_only, application_name, token_path)\u001b[0m\n\u001b[1;32m     54\u001b[0m \u001b[0;34m\u001b[0m\u001b[0m\n\u001b[1;32m     55\u001b[0m         \u001b[0mself\u001b[0m\u001b[0;34m.\u001b[0m\u001b[0mcalendar\u001b[0m \u001b[0;34m=\u001b[0m \u001b[0mcalendar\u001b[0m\u001b[0;34m\u001b[0m\u001b[0;34m\u001b[0m\u001b[0m\n\u001b[0;32m---> 56\u001b[0;31m         \u001b[0mcredentials\u001b[0m \u001b[0;34m=\u001b[0m \u001b[0mself\u001b[0m\u001b[0;34m.\u001b[0m\u001b[0m_get_credentials\u001b[0m\u001b[0;34m(\u001b[0m\u001b[0;34m)\u001b[0m\u001b[0;34m\u001b[0m\u001b[0;34m\u001b[0m\u001b[0m\n\u001b[0m\u001b[1;32m     57\u001b[0m         \u001b[0mself\u001b[0m\u001b[0;34m.\u001b[0m\u001b[0mservice\u001b[0m \u001b[0;34m=\u001b[0m \u001b[0mbuild\u001b[0m\u001b[0;34m(\u001b[0m\u001b[0;34m'calendar'\u001b[0m\u001b[0;34m,\u001b[0m \u001b[0;34m'v3'\u001b[0m\u001b[0;34m,\u001b[0m \u001b[0mcredentials\u001b[0m\u001b[0;34m=\u001b[0m\u001b[0mcredentials\u001b[0m\u001b[0;34m)\u001b[0m\u001b[0;34m\u001b[0m\u001b[0;34m\u001b[0m\u001b[0m\n\u001b[1;32m     58\u001b[0m \u001b[0;34m\u001b[0m\u001b[0m\n",
            "\u001b[0;32m/usr/local/lib/python3.6/dist-packages/gcsa/google_calendar.py\u001b[0m in \u001b[0;36m_get_credentials\u001b[0;34m(self)\u001b[0m\n\u001b[1;32m     70\u001b[0m                 \u001b[0mcredentials\u001b[0m\u001b[0;34m.\u001b[0m\u001b[0mrefresh\u001b[0m\u001b[0;34m(\u001b[0m\u001b[0mRequest\u001b[0m\u001b[0;34m(\u001b[0m\u001b[0;34m)\u001b[0m\u001b[0;34m)\u001b[0m\u001b[0;34m\u001b[0m\u001b[0;34m\u001b[0m\u001b[0m\n\u001b[1;32m     71\u001b[0m             \u001b[0;32melse\u001b[0m\u001b[0;34m:\u001b[0m\u001b[0;34m\u001b[0m\u001b[0;34m\u001b[0m\u001b[0m\n\u001b[0;32m---> 72\u001b[0;31m                 \u001b[0mflow\u001b[0m \u001b[0;34m=\u001b[0m \u001b[0mInstalledAppFlow\u001b[0m\u001b[0;34m.\u001b[0m\u001b[0mfrom_client_secrets_file\u001b[0m\u001b[0;34m(\u001b[0m\u001b[0m_credentials_path\u001b[0m\u001b[0;34m,\u001b[0m \u001b[0mself\u001b[0m\u001b[0;34m.\u001b[0m\u001b[0m_scopes\u001b[0m\u001b[0;34m)\u001b[0m\u001b[0;34m\u001b[0m\u001b[0;34m\u001b[0m\u001b[0m\n\u001b[0m\u001b[1;32m     73\u001b[0m                 \u001b[0mcredentials\u001b[0m \u001b[0;34m=\u001b[0m \u001b[0mflow\u001b[0m\u001b[0;34m.\u001b[0m\u001b[0mrun_local_server\u001b[0m\u001b[0;34m(\u001b[0m\u001b[0;34m)\u001b[0m\u001b[0;34m\u001b[0m\u001b[0;34m\u001b[0m\u001b[0m\n\u001b[1;32m     74\u001b[0m \u001b[0;34m\u001b[0m\u001b[0m\n",
            "\u001b[0;32m/usr/local/lib/python3.6/dist-packages/google_auth_oauthlib/flow.py\u001b[0m in \u001b[0;36mfrom_client_secrets_file\u001b[0;34m(cls, client_secrets_file, scopes, **kwargs)\u001b[0m\n\u001b[1;32m    201\u001b[0m             \u001b[0mFlow\u001b[0m\u001b[0;34m:\u001b[0m \u001b[0mThe\u001b[0m \u001b[0mconstructed\u001b[0m \u001b[0mFlow\u001b[0m \u001b[0minstance\u001b[0m\u001b[0;34m.\u001b[0m\u001b[0;34m\u001b[0m\u001b[0;34m\u001b[0m\u001b[0m\n\u001b[1;32m    202\u001b[0m         \"\"\"\n\u001b[0;32m--> 203\u001b[0;31m         \u001b[0;32mwith\u001b[0m \u001b[0mopen\u001b[0m\u001b[0;34m(\u001b[0m\u001b[0mclient_secrets_file\u001b[0m\u001b[0;34m,\u001b[0m \u001b[0;34m\"r\"\u001b[0m\u001b[0;34m)\u001b[0m \u001b[0;32mas\u001b[0m \u001b[0mjson_file\u001b[0m\u001b[0;34m:\u001b[0m\u001b[0;34m\u001b[0m\u001b[0;34m\u001b[0m\u001b[0m\n\u001b[0m\u001b[1;32m    204\u001b[0m             \u001b[0mclient_config\u001b[0m \u001b[0;34m=\u001b[0m \u001b[0mjson\u001b[0m\u001b[0;34m.\u001b[0m\u001b[0mload\u001b[0m\u001b[0;34m(\u001b[0m\u001b[0mjson_file\u001b[0m\u001b[0;34m)\u001b[0m\u001b[0;34m\u001b[0m\u001b[0;34m\u001b[0m\u001b[0m\n\u001b[1;32m    205\u001b[0m \u001b[0;34m\u001b[0m\u001b[0m\n",
            "\u001b[0;31mFileNotFoundError\u001b[0m: [Errno 2] No such file or directory: '/root/.credentials/credentials.json'"
          ]
        }
      ]
    }
  ]
}