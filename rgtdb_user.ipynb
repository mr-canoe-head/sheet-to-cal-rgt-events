{
 "metadata": {
  "language_info": {
   "codemirror_mode": {
    "name": "ipython",
    "version": 3
   },
   "file_extension": ".py",
   "mimetype": "text/x-python",
   "name": "python",
   "nbconvert_exporter": "python",
   "pygments_lexer": "ipython3",
   "version": "3.8.3-final"
  },
  "orig_nbformat": 2,
  "kernelspec": {
   "name": "python3",
   "display_name": "Python 3",
   "language": "python"
  }
 },
 "nbformat": 4,
 "nbformat_minor": 2,
 "cells": [
  {
   "source": [
    "# Get RGTDB Entries for One User\n",
    "\n",
    "https://rgtdb.com/user/72763"
   ],
   "cell_type": "markdown",
   "metadata": {}
  },
  {
   "cell_type": "code",
   "execution_count": 8,
   "metadata": {},
   "outputs": [],
   "source": [
    "import pandas as pd\n",
    "from datetime import datetime as dt\n",
    "import datetime\n",
    "\n",
    "dfs = pd.read_html('https://rgtdb.com/user/72763')\n",
    "df = dfs[1]"
   ]
  },
  {
   "source": [
    "## Convert date to datetime, attempt to guess the year\n",
    "\n",
    "This is going to have troubles around New Year"
   ],
   "cell_type": "markdown",
   "metadata": {}
  },
  {
   "cell_type": "code",
   "execution_count": 9,
   "metadata": {
    "tags": []
   },
   "outputs": [
    {
     "output_type": "stream",
     "name": "stdout",
     "text": [
      "2020-12\n"
     ]
    },
    {
     "output_type": "execute_result",
     "data": {
      "text/plain": [
       "                                  Date                      Name\n",
       "Year_Date                                                       \n",
       "2021-03-03 05:00:00+00:00  03-03 05:00         The Recovery Ride\n",
       "2021-02-28 15:00:00+00:00  02-28 15:00   Lou's Sunday Group Ride\n",
       "2021-02-28 14:00:00+00:00  02-28 14:00        MRETT14 Lou's Team\n",
       "2021-02-28 09:00:00+00:00  02-28 09:00       GFNS JENSIE E-FONDO\n",
       "2021-02-27 16:30:00+00:00  02-27 16:30            Wacky Races 36\n",
       "...                                ...                       ...\n",
       "2020-11-19 04:45:00+00:00  11-19 04:45    Thursday Sweet Spot AM\n",
       "2020-10-25 12:30:00+00:00  10-25 12:30         L’ENFER EN FRANCE\n",
       "2020-10-24 15:00:00+00:00  10-24 15:00     Flemish For Beginners\n",
       "2020-10-11 11:30:00+00:00  10-11 11:30   The Amstell Racing Race\n",
       "2020-08-29 11:30:00+00:00  08-29 11:30  Vive La France - Stage 1\n",
       "\n",
       "[104 rows x 2 columns]"
      ],
      "text/html": "<div>\n<style scoped>\n    .dataframe tbody tr th:only-of-type {\n        vertical-align: middle;\n    }\n\n    .dataframe tbody tr th {\n        vertical-align: top;\n    }\n\n    .dataframe thead th {\n        text-align: right;\n    }\n</style>\n<table border=\"1\" class=\"dataframe\">\n  <thead>\n    <tr style=\"text-align: right;\">\n      <th></th>\n      <th>Date</th>\n      <th>Name</th>\n    </tr>\n    <tr>\n      <th>Year_Date</th>\n      <th></th>\n      <th></th>\n    </tr>\n  </thead>\n  <tbody>\n    <tr>\n      <th>2021-03-03 05:00:00+00:00</th>\n      <td>03-03 05:00</td>\n      <td>The Recovery Ride</td>\n    </tr>\n    <tr>\n      <th>2021-02-28 15:00:00+00:00</th>\n      <td>02-28 15:00</td>\n      <td>Lou's Sunday Group Ride</td>\n    </tr>\n    <tr>\n      <th>2021-02-28 14:00:00+00:00</th>\n      <td>02-28 14:00</td>\n      <td>MRETT14 Lou's Team</td>\n    </tr>\n    <tr>\n      <th>2021-02-28 09:00:00+00:00</th>\n      <td>02-28 09:00</td>\n      <td>GFNS JENSIE E-FONDO</td>\n    </tr>\n    <tr>\n      <th>2021-02-27 16:30:00+00:00</th>\n      <td>02-27 16:30</td>\n      <td>Wacky Races 36</td>\n    </tr>\n    <tr>\n      <th>...</th>\n      <td>...</td>\n      <td>...</td>\n    </tr>\n    <tr>\n      <th>2020-11-19 04:45:00+00:00</th>\n      <td>11-19 04:45</td>\n      <td>Thursday Sweet Spot AM</td>\n    </tr>\n    <tr>\n      <th>2020-10-25 12:30:00+00:00</th>\n      <td>10-25 12:30</td>\n      <td>L’ENFER EN FRANCE</td>\n    </tr>\n    <tr>\n      <th>2020-10-24 15:00:00+00:00</th>\n      <td>10-24 15:00</td>\n      <td>Flemish For Beginners</td>\n    </tr>\n    <tr>\n      <th>2020-10-11 11:30:00+00:00</th>\n      <td>10-11 11:30</td>\n      <td>The Amstell Racing Race</td>\n    </tr>\n    <tr>\n      <th>2020-08-29 11:30:00+00:00</th>\n      <td>08-29 11:30</td>\n      <td>Vive La France - Stage 1</td>\n    </tr>\n  </tbody>\n</table>\n<p>104 rows × 2 columns</p>\n</div>"
     },
     "metadata": {},
     "execution_count": 9
    }
   ],
   "source": [
    "event_year = str(dt.today().year)\n",
    "year_subtract = 0\n",
    "last_month = 13\n",
    "\n",
    "for index, row in df.iterrows():\n",
    "    event_month = int(row['Date'][:2])\n",
    "\n",
    "    if event_month > last_month:\n",
    "        year_subtract += 1\n",
    "        event_year = str(dt.today().year - year_subtract)\n",
    "        print(event_year + '-' + str(event_month))\n",
    "\n",
    "    df.loc[index, 'Year_Date'] = event_year + '-' + row['Date']\n",
    "\n",
    "    last_month = event_month\n",
    "    \n",
    "df['Year_Date'] = pd.to_datetime(df['Year_Date'], utc=True)\n",
    "df.set_index('Year_Date', inplace=True)\n",
    "df"
   ]
  },
  {
   "source": [
    "## Personal Calendar for Signups\n",
    "\n",
    "g2oh32rptulp8f17e3bdiq9iec@group.calendar.google.com"
   ],
   "cell_type": "markdown",
   "metadata": {}
  },
  {
   "cell_type": "code",
   "execution_count": 10,
   "metadata": {},
   "outputs": [],
   "source": [
    "from gcsa.event import Event as gcEvent\n",
    "from gcsa.google_calendar import GoogleCalendar\n",
    "\n",
    "import socket\n",
    "socket.setdefaulttimeout(300) # 5 minutes\n",
    "\n",
    "EMAIL_FOR_CAL = 'g2oh32rptulp8f17e3bdiq9iec@group.calendar.google.com'\n",
    "\n",
    "calendar = GoogleCalendar(EMAIL_FOR_CAL)\n"
   ]
  },
  {
   "cell_type": "code",
   "execution_count": 11,
   "metadata": {},
   "outputs": [
    {
     "output_type": "execute_result",
     "data": {
      "text/plain": [
       "Timestamp('2021-03-03 05:00:00+0000', tz='UTC')"
      ]
     },
     "metadata": {},
     "execution_count": 11
    }
   ],
   "source": [
    "df.index.max() \n"
   ]
  },
  {
   "source": [
    "## Read Events in Calendar which Are Within Timeframe of RGDB Data\n",
    "\n",
    "Add one day to timeframe to compensate for unpredictable time zone handling.\n",
    "\n",
    "Note IDs of existing events so we don't re-create them."
   ],
   "cell_type": "markdown",
   "metadata": {}
  },
  {
   "cell_type": "code",
   "execution_count": 12,
   "metadata": {},
   "outputs": [],
   "source": [
    "df['cal_id'] = None\n",
    "df['event_obj'] = None\n",
    "df['found'] = False\n",
    "\n",
    "for event in calendar.get_events(time_min=df.index.min() - datetime.timedelta(days=1), time_max=df.index.max() + datetime.timedelta(days=1), timezone='UTC'):\n",
    "\n",
    "    df.loc[(df['Name'] == event.summary) & (df.index == event.start), ['found', 'cal_id', 'event_obj']] = [True, event.event_id, event]\n",
    "\n",
    "    #if event.start in df.loc[df['Name'] == event.summary].index:\n",
    "    #    df.at[event.start, 'cal_id'] = event.event_id\n",
    "    #    df.at[event.start, 'event_obj'] = event\n",
    "    #    print('found ', event, event.timezone, event.event_id)\n",
    "\n"
   ]
  },
  {
   "cell_type": "code",
   "execution_count": 13,
   "metadata": {},
   "outputs": [
    {
     "output_type": "execute_result",
     "data": {
      "text/plain": [
       "                                  Date               Name cal_id event_obj  \\\n",
       "Year_Date                                                                    \n",
       "2021-03-03 05:00:00+00:00  03-03 05:00  The Recovery Ride   None      None   \n",
       "\n",
       "                           found  \n",
       "Year_Date                         \n",
       "2021-03-03 05:00:00+00:00  False  "
      ],
      "text/html": "<div>\n<style scoped>\n    .dataframe tbody tr th:only-of-type {\n        vertical-align: middle;\n    }\n\n    .dataframe tbody tr th {\n        vertical-align: top;\n    }\n\n    .dataframe thead th {\n        text-align: right;\n    }\n</style>\n<table border=\"1\" class=\"dataframe\">\n  <thead>\n    <tr style=\"text-align: right;\">\n      <th></th>\n      <th>Date</th>\n      <th>Name</th>\n      <th>cal_id</th>\n      <th>event_obj</th>\n      <th>found</th>\n    </tr>\n    <tr>\n      <th>Year_Date</th>\n      <th></th>\n      <th></th>\n      <th></th>\n      <th></th>\n      <th></th>\n    </tr>\n  </thead>\n  <tbody>\n    <tr>\n      <th>2021-03-03 05:00:00+00:00</th>\n      <td>03-03 05:00</td>\n      <td>The Recovery Ride</td>\n      <td>None</td>\n      <td>None</td>\n      <td>False</td>\n    </tr>\n  </tbody>\n</table>\n</div>"
     },
     "metadata": {},
     "execution_count": 13
    }
   ],
   "source": [
    "df.loc[df['found'] == False]"
   ]
  },
  {
   "cell_type": "code",
   "execution_count": 14,
   "metadata": {},
   "outputs": [
    {
     "output_type": "stream",
     "name": "stdout",
     "text": [
      "* Adding: 2021-03-03 05:00:00+00:00 The Recovery Ride\n",
      "ID after add: None Returned event ID: de2g4ml1hi8hvnsdqft37tojq4\n",
      "Skipping 2021-02-28 15:00:00+00:00 Lou's Sunday Group Ride\n",
      "Skipping 2021-02-28 14:00:00+00:00 MRETT14 Lou's Team\n",
      "Skipping 2021-02-28 09:00:00+00:00 GFNS JENSIE E-FONDO\n",
      "Skipping 2021-02-27 16:30:00+00:00 Wacky Races 36\n",
      "Skipping 2021-02-27 16:00:00+00:00 Wacky Races 35\n",
      "Skipping 2021-02-27 15:00:00+00:00 Lou's Saturday Group Ride\n",
      "Skipping 2021-02-27 13:00:00+00:00 Wacky Races 29\n",
      "Skipping 2021-02-27 11:30:00+00:00 Wacky Races 26\n",
      "Skipping 2021-02-27 10:30:00+00:00 Wacky Races 24\n",
      "Skipping 2021-02-27 10:00:00+00:00 Wacky Races 23\n",
      "Skipping 2021-02-27 08:00:00+00:00 Wacky Races 19\n",
      "Skipping 2021-02-26 10:30:00+00:00 KISS Racing Team Crit\n",
      "Skipping 2021-02-25 15:00:00+00:00 Chat Laps\n",
      "Skipping 2021-02-25 10:50:00+00:00 KISS at Base\n",
      "Skipping 2021-02-25 07:00:00+00:00 Breakfast Club\n",
      "Skipping 2021-02-24 05:00:00+00:00 The Recovery Ride\n",
      "Skipping 2021-02-21 15:00:00+00:00 Lou's Sunday Group Ride\n",
      "Skipping 2021-02-21 14:00:00+00:00 MRETT13 Lou's Team\n",
      "Skipping 2021-02-21 09:00:00+00:00 GFNS GOLDEN E-FONDO\n",
      "Skipping 2021-02-20 15:00:00+00:00 Lou's Saturday Group Ride\n",
      "Skipping 2021-02-19 15:00:00+00:00 Lou's Fri Drafting Clinic\n",
      "Skipping 2021-02-18 15:00:00+00:00 Lou's Thurs Draft Clinic\n",
      "Skipping 2021-02-18 07:00:00+00:00 Thursday under/overs\n",
      "Skipping 2021-02-17 05:00:00+00:00 The Recovery Ride\n",
      "Skipping 2021-02-16 15:00:00+00:00 Lous Tues drafting clinic\n",
      "Skipping 2021-02-16 07:00:00+00:00 Tuesday SS training\n",
      "Skipping 2021-02-14 15:00:00+00:00 Lou's Sunday Group Ride\n",
      "Skipping 2021-02-14 14:00:00+00:00 MRETT12 Lou's Team\n",
      "Skipping 2021-02-14 09:00:00+00:00 GFNS HIGHLANDS E-FONDO\n",
      "Skipping 2021-02-13 15:00:00+00:00 Lou's Saturday Group Ride\n",
      "Skipping 2021-02-12 15:00:00+00:00 Race to the Light House\n",
      "Skipping 2021-02-11 07:00:00+00:00 Thursday SST\n",
      "Skipping 2021-02-10 07:00:00+00:00 Breakfast Club\n",
      "Skipping 2021-02-09 15:00:00+00:00 Gran Premio Pienza\n",
      "Skipping 2021-02-09 15:00:00+00:00 Chat Laps\n",
      "Skipping 2021-02-09 07:00:00+00:00 Tuesday SST\n",
      "Skipping 2021-02-07 15:00:00+00:00 Lou's Sunday Group Ride\n",
      "Skipping 2021-02-07 14:15:00+00:00 Lou's Team MRETT11\n",
      "Skipping 2021-02-07 09:00:00+00:00 GFNS E-Fondo Florida\n",
      "Skipping 2021-02-07 09:00:00+00:00 Herd Sunday 2 Pace Ride\n",
      "Skipping 2021-02-06 16:00:00+00:00 LOBSTER BITE RACE\n",
      "Skipping 2021-02-06 15:00:00+00:00 Lou's Saturday Group Ride\n",
      "Skipping 2021-02-06 09:30:00+00:00 Edinburgh Lockdown Loop 1\n",
      "Skipping 2021-02-06 09:30:00+00:00 APPLECROSS - ENDURANCE RR\n",
      "Skipping 2021-02-05 15:00:00+00:00 Chat Laps\n",
      "Skipping 2021-02-04 16:00:00+00:00 Pedal2Empower group ride\n",
      "Skipping 2021-02-03 15:00:00+00:00 Chat Laps\n",
      "Skipping 2021-02-03 07:00:00+00:00 Breakfast Club\n",
      "Skipping 2021-02-02 15:00:00+00:00 Chat Laps\n",
      "Skipping 2021-02-01 07:00:00+00:00 Breakfast Club\n",
      "Skipping 2021-01-31 15:00:00+00:00 Lou's Sunday Group Ride\n",
      "Skipping 2021-01-31 09:00:00+00:00 Herd 2 Pace Sunday Ride\n",
      "Skipping 2021-01-30 15:00:00+00:00 Lou's Saturday Group Ride\n",
      "Skipping 2021-01-30 09:30:00+00:00 Newcastle Lockdown Loop 1\n",
      "Skipping 2021-01-24 15:00:00+00:00 Lou's Sunday Group Ride\n",
      "Skipping 2021-01-24 11:00:00+00:00 WKG's Watts Occurring\n",
      "Skipping 2021-01-24 10:00:00+00:00 The Fleche Waltonne\n",
      "Skipping 2021-01-24 09:00:00+00:00 Herd Sunday 2 Pace Ride\n",
      "Skipping 2021-01-23 15:00:00+00:00 Lou's Saturday Group Ride\n",
      "Skipping 2021-01-23 09:00:00+00:00 Reiver social ride out\n",
      "Skipping 2021-01-17 12:30:00+00:00 TDM_STAGE12_3\n",
      "Skipping 2021-01-17 06:30:00+00:00 TDM_STAGE12_2\n",
      "Skipping 2021-01-16 12:30:00+00:00 TDM 11 Lou’s Team\n",
      "Skipping 2021-01-14 06:30:00+00:00 TDM_STAGE10_2\n",
      "Skipping 2021-01-13 06:30:00+00:00 TDM_STAGE9_2\n",
      "Skipping 2021-01-12 06:30:00+00:00 TDM_STAGE8_2\n",
      "Skipping 2021-01-10 06:30:00+00:00 TDM_STAGE7_2\n",
      "Skipping 2021-01-09 06:30:00+00:00 TDM_STAGE6_2\n",
      "Skipping 2021-01-08 12:00:00+00:00 TDM rest day ride.\n",
      "Skipping 2021-01-07 12:30:00+00:00 TDM_STAGE5_3\n",
      "Skipping 2021-01-06 12:30:00+00:00 TDM_STAGE4_3\n",
      "Skipping 2021-01-05 12:30:00+00:00 TDM_STAGE3_3\n",
      "Skipping 2021-01-03 12:30:00+00:00 TDM_STAGE2_3\n",
      "Skipping 2021-01-03 06:30:00+00:00 TDM_STAGE2_2\n",
      "Skipping 2021-01-02 15:00:00+00:00 Lou's Saturday Group Ride\n",
      "Skipping 2021-01-02 12:30:00+00:00 TdM_Stage1_3\n",
      "Skipping 2020-12-31 15:00:00+00:00 Lou's New Years Eve Ride\n",
      "Skipping 2020-12-31 11:00:00+00:00 STD Recovery-Ride\n",
      "Skipping 2020-12-30 08:30:00+00:00 PRT Tempo 2Hrs\n",
      "Skipping 2020-12-29 15:00:00+00:00 Lou's Drafting Clinic\n",
      "Skipping 2020-12-29 11:00:00+00:00 Festive 500: three rivers\n",
      "Skipping 2020-12-28 12:00:00+00:00 Festive 500: lowlands\n",
      "Skipping 2020-12-27 11:00:00+00:00 Festive 500: quarantine\n",
      "Skipping 2020-12-25 16:01:00+00:00 Virtuslo NYT | stage 1(B)\n",
      "Skipping 2020-12-25 12:30:00+00:00 Festive 500: the river\n",
      "Skipping 2020-12-24 12:30:00+00:00 Festive 500 opening lap\n",
      "Skipping 2020-12-24 11:00:00+00:00 STD Group-Ride <2.6w/kg\n",
      "Skipping 2020-12-23 17:00:00+00:00 Probike Groupride\n",
      "Skipping 2020-12-22 11:00:00+00:00 Eat DIRT on RGT\n",
      "Skipping 2020-12-20 15:00:00+00:00 Lou’s Sunday Group Ride\n",
      "Skipping 2020-12-20 10:00:00+00:00 Swynnerton GP Classic\n",
      "Skipping 2020-12-20 08:00:00+00:00 Imperial Century 100mi!\n",
      "Skipping 2020-12-19 15:00:00+00:00 Lou’s Saturday Group Ride\n",
      "Skipping 2020-12-19 13:30:00+00:00 Red Bull Bay Climb 2\n",
      "Skipping 2020-12-12 09:30:00+00:00 Escape To Alcatraz 1\n",
      "Skipping 2020-12-09 17:00:00+00:00 Probike Academy Ride\n",
      "Skipping 2020-11-22 08:00:00+00:00 Imperial Century 40mi\n",
      "Skipping 2020-11-19 16:00:00+00:00 Thursday Sweet Spot PM\n",
      "Skipping 2020-11-19 04:45:00+00:00 Thursday Sweet Spot AM\n",
      "Skipping 2020-10-25 12:30:00+00:00 L’ENFER EN FRANCE\n",
      "Skipping 2020-10-24 15:00:00+00:00 Flemish For Beginners\n",
      "Skipping 2020-10-11 11:30:00+00:00 The Amstell Racing Race\n",
      "Skipping 2020-08-29 11:30:00+00:00 Vive La France - Stage 1\n"
     ]
    }
   ],
   "source": [
    "for index, row in df.iterrows():\n",
    "\n",
    "    if row['found'] == False:\n",
    "\n",
    "        print('* Adding:', index, row['Name'])\n",
    "\n",
    "        evntColor = '1'\n",
    "\n",
    "        event = gcEvent(\n",
    "            str(row['Name']),\n",
    "            start=index,\n",
    "            timezone='UTC',\n",
    "            color = evntColor\n",
    "        )\n",
    "        ret_event = calendar.add_event(event)\n",
    "        print('ID after add:', event.event_id, 'Returned event ID:', ret_event.event_id)\n",
    "\n",
    "    else: \n",
    "        print('Skipping', index, row['Name'])"
   ]
  },
  {
   "cell_type": "code",
   "execution_count": null,
   "metadata": {},
   "outputs": [],
   "source": []
  }
 ]
}