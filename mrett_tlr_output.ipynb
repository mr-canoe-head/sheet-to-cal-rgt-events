{
 "cells": [
  {
   "cell_type": "code",
   "execution_count": 4,
   "metadata": {},
   "outputs": [],
   "source": [
    "import pandas as pd\n",
    "\n",
    "mrett_rides = {\n",
    "    '21' : 'TLR MRETT21 Monday Race',\n",
    "    '22' : 'TLR MRETT22 Race Monday',\n",
    "    '23' : 'TLR MRETT23 Monday Race',\n",
    "    '24' : 'TLR MRETT24 Monday Race',\n",
    "    '25' : 'TLR MRETT25 Race Monday',\n",
    "    '26' : 'TLR MRETT26 Race Monday'\n",
    "}\n",
    "\n",
    "df_rides = {}\n",
    "\n",
    "for mrett in mrett_rides.values():\n",
    "    filename = mrett + '.pickle'\n",
    "    df_rides[mrett] = pd.read_pickle(filename)"
   ]
  },
  {
   "cell_type": "code",
   "execution_count": 6,
   "metadata": {},
   "outputs": [
    {
     "data": {
      "text/html": "<div>\n<style scoped>\n    .dataframe tbody tr th:only-of-type {\n        vertical-align: middle;\n    }\n\n    .dataframe tbody tr th {\n        vertical-align: top;\n    }\n\n    .dataframe thead th {\n        text-align: right;\n    }\n</style>\n<table border=\"1\" class=\"dataframe\">\n  <thead>\n    <tr style=\"text-align: right;\">\n      <th></th>\n      <th>index</th>\n      <th>#</th>\n      <th>Unnamed: 1</th>\n      <th>Name</th>\n      <th>Finish Time</th>\n      <th>Avg wKg</th>\n      <th>Ride</th>\n      <th>Pseudonym</th>\n    </tr>\n  </thead>\n  <tbody>\n    <tr>\n      <th>0</th>\n      <td>5</td>\n      <td>3</td>\n      <td>🥉</td>\n      <td>453ca50f305c3e40833a</td>\n      <td>37:16.5 + 0.986</td>\n      <td>3.38</td>\n      <td>TLR MRETT21 Monday Race</td>\n      <td>tactful-clam</td>\n    </tr>\n    <tr>\n      <th>1</th>\n      <td>4</td>\n      <td>3</td>\n      <td>🥉</td>\n      <td>453ca50f305c3e40833a</td>\n      <td>34:59.8 + 1.063</td>\n      <td>3.50</td>\n      <td>TLR MRETT22 Race Monday</td>\n      <td>tactful-clam</td>\n    </tr>\n    <tr>\n      <th>2</th>\n      <td>3</td>\n      <td>3</td>\n      <td>🥉</td>\n      <td>c7601540ed2d8d453411</td>\n      <td>32:04.1 + 1.138</td>\n      <td>4.08</td>\n      <td>TLR MRETT23 Monday Race</td>\n      <td>loutish-antelope</td>\n    </tr>\n    <tr>\n      <th>3</th>\n      <td>2</td>\n      <td>3</td>\n      <td>🥉</td>\n      <td>c7601540ed2d8d453411</td>\n      <td>35:31.8 + 0.604</td>\n      <td>3.72</td>\n      <td>TLR MRETT24 Monday Race</td>\n      <td>loutish-antelope</td>\n    </tr>\n    <tr>\n      <th>4</th>\n      <td>1</td>\n      <td>3</td>\n      <td>🥉</td>\n      <td>453ca50f305c3e40833a</td>\n      <td>36:55.0 + 2.386</td>\n      <td>3.50</td>\n      <td>TLR MRETT25 Race Monday</td>\n      <td>tactful-clam</td>\n    </tr>\n    <tr>\n      <th>5</th>\n      <td>0</td>\n      <td>3</td>\n      <td>🥉</td>\n      <td>c7601540ed2d8d453411</td>\n      <td>37:20.9 + 0.127</td>\n      <td>3.78</td>\n      <td>TLR MRETT26 Race Monday</td>\n      <td>loutish-antelope</td>\n    </tr>\n  </tbody>\n</table>\n</div>",
      "text/plain": "   index  # Unnamed: 1                  Name      Finish Time  Avg wKg  \\\n0      5  3          🥉  453ca50f305c3e40833a  37:16.5 + 0.986     3.38   \n1      4  3          🥉  453ca50f305c3e40833a  34:59.8 + 1.063     3.50   \n2      3  3          🥉  c7601540ed2d8d453411  32:04.1 + 1.138     4.08   \n3      2  3          🥉  c7601540ed2d8d453411  35:31.8 + 0.604     3.72   \n4      1  3          🥉  453ca50f305c3e40833a  36:55.0 + 2.386     3.50   \n5      0  3          🥉  c7601540ed2d8d453411  37:20.9 + 0.127     3.78   \n\n                      Ride         Pseudonym  \n0  TLR MRETT21 Monday Race      tactful-clam  \n1  TLR MRETT22 Race Monday      tactful-clam  \n2  TLR MRETT23 Monday Race  loutish-antelope  \n3  TLR MRETT24 Monday Race  loutish-antelope  \n4  TLR MRETT25 Race Monday      tactful-clam  \n5  TLR MRETT26 Race Monday  loutish-antelope  "
     },
     "execution_count": 6,
     "metadata": {},
     "output_type": "execute_result"
    }
   ],
   "source": [
    "df_results = pd.read_pickle('TLR MRETT2 3rd.pickle')\n",
    "df_results"
   ]
  },
  {
   "cell_type": "code",
   "execution_count": 7,
   "metadata": {},
   "outputs": [
    {
     "data": {
      "text/html": "<div>\n<style scoped>\n    .dataframe tbody tr th:only-of-type {\n        vertical-align: middle;\n    }\n\n    .dataframe tbody tr th {\n        vertical-align: top;\n    }\n\n    .dataframe thead th {\n        text-align: right;\n    }\n</style>\n<table border=\"1\" class=\"dataframe\">\n  <thead>\n    <tr style=\"text-align: right;\">\n      <th>Pseudonym</th>\n      <th>amaranth-myna</th>\n      <th>belligerent-swift</th>\n      <th>eager-meerkat</th>\n      <th>idealistic-porpoise</th>\n      <th>loutish-antelope</th>\n      <th>persimmon-jaybird</th>\n      <th>tactful-clam</th>\n      <th>watchful-panda</th>\n    </tr>\n    <tr>\n      <th>Ride</th>\n      <th></th>\n      <th></th>\n      <th></th>\n      <th></th>\n      <th></th>\n      <th></th>\n      <th></th>\n      <th></th>\n    </tr>\n  </thead>\n  <tbody>\n    <tr>\n      <th>TLR MRETT21 Monday Race</th>\n      <td>2.45</td>\n      <td>1.96</td>\n      <td>4.34</td>\n      <td>NaN</td>\n      <td>NaN</td>\n      <td>3.08</td>\n      <td>3.38</td>\n      <td>3.58</td>\n    </tr>\n    <tr>\n      <th>TLR MRETT22 Race Monday</th>\n      <td>NaN</td>\n      <td>NaN</td>\n      <td>4.46</td>\n      <td>3.81</td>\n      <td>3.96</td>\n      <td>3.23</td>\n      <td>3.50</td>\n      <td>3.48</td>\n    </tr>\n    <tr>\n      <th>TLR MRETT23 Monday Race</th>\n      <td>NaN</td>\n      <td>NaN</td>\n      <td>4.39</td>\n      <td>3.54</td>\n      <td>4.08</td>\n      <td>3.14</td>\n      <td>3.22</td>\n      <td>3.54</td>\n    </tr>\n    <tr>\n      <th>TLR MRETT24 Monday Race</th>\n      <td>NaN</td>\n      <td>NaN</td>\n      <td>4.33</td>\n      <td>3.71</td>\n      <td>3.72</td>\n      <td>3.17</td>\n      <td>3.26</td>\n      <td>3.32</td>\n    </tr>\n    <tr>\n      <th>TLR MRETT25 Race Monday</th>\n      <td>NaN</td>\n      <td>NaN</td>\n      <td>4.31</td>\n      <td>3.57</td>\n      <td>NaN</td>\n      <td>3.20</td>\n      <td>3.50</td>\n      <td>3.45</td>\n    </tr>\n    <tr>\n      <th>TLR MRETT26 Race Monday</th>\n      <td>NaN</td>\n      <td>NaN</td>\n      <td>NaN</td>\n      <td>NaN</td>\n      <td>3.78</td>\n      <td>3.12</td>\n      <td>3.35</td>\n      <td>3.26</td>\n    </tr>\n  </tbody>\n</table>\n</div>",
      "text/plain": "Pseudonym                amaranth-myna  belligerent-swift  eager-meerkat  \\\nRide                                                                       \nTLR MRETT21 Monday Race           2.45               1.96           4.34   \nTLR MRETT22 Race Monday            NaN                NaN           4.46   \nTLR MRETT23 Monday Race            NaN                NaN           4.39   \nTLR MRETT24 Monday Race            NaN                NaN           4.33   \nTLR MRETT25 Race Monday            NaN                NaN           4.31   \nTLR MRETT26 Race Monday            NaN                NaN            NaN   \n\nPseudonym                idealistic-porpoise  loutish-antelope  \\\nRide                                                             \nTLR MRETT21 Monday Race                  NaN               NaN   \nTLR MRETT22 Race Monday                 3.81              3.96   \nTLR MRETT23 Monday Race                 3.54              4.08   \nTLR MRETT24 Monday Race                 3.71              3.72   \nTLR MRETT25 Race Monday                 3.57               NaN   \nTLR MRETT26 Race Monday                  NaN              3.78   \n\nPseudonym                persimmon-jaybird  tactful-clam  watchful-panda  \nRide                                                                      \nTLR MRETT21 Monday Race               3.08          3.38            3.58  \nTLR MRETT22 Race Monday               3.23          3.50            3.48  \nTLR MRETT23 Monday Race               3.14          3.22            3.54  \nTLR MRETT24 Monday Race               3.17          3.26            3.32  \nTLR MRETT25 Race Monday               3.20          3.50            3.45  \nTLR MRETT26 Race Monday               3.12          3.35            3.26  "
     },
     "execution_count": 7,
     "metadata": {},
     "output_type": "execute_result"
    }
   ],
   "source": [
    "df_wkg = pd.read_pickle('TLR MRETT2 All Riders.pickle')\n",
    "df_wkg"
   ]
  },
  {
   "cell_type": "code",
   "execution_count": 21,
   "metadata": {},
   "outputs": [
    {
     "data": {
      "text/plain": "1253"
     },
     "execution_count": 21,
     "metadata": {},
     "output_type": "execute_result"
    }
   ],
   "source": [
    "import pandas_bokeh\n",
    "\n",
    "css_classes = ['uk-table', 'uk-table-small', 'uk-table-hover', 'uk-table-divider', 'uk-table-striped']\n",
    "\n",
    "f = open(\"mrett2-tlr.html\", \"w\")\n",
    "f.write(\"<html><head>\")\n",
    "\n",
    "f.write('''<html><head><title>Team Lou Racing Squad </title>        <meta charset=\"utf-8\">\n",
    "        <meta name=\"viewport\" content=\"width=device-width, initial-scale=1\">\n",
    "        \n",
    "        <!-- UIkit CSS -->\n",
    "        <link rel=\"stylesheet\" href=\"https://cdn.jsdelivr.net/npm/uikit@3.6.22/dist/css/uikit.min.css\" />\n",
    "\n",
    "        <!-- UIkit JS -->\n",
    "        <script src=\"https://cdn.jsdelivr.net/npm/uikit@3.6.22/dist/js/uikit.min.js\"></script>\n",
    "        <script src=\"https://cdn.jsdelivr.net/npm/uikit@3.6.22/dist/js/uikit-icons.min.js\"></script>\n",
    "\n",
    "        </head><body><h1>Team Lou Racing Squad MRETT Series 2</h1>''')\n",
    "\n",
    "GC_html_graph = df_results.plot_bokeh(y='Avg wKg', figsize=(1500, 350),\n",
    "                                            title=\"3rd Place Rider W/kg per Ride\",\n",
    "                                            xlabel=\"Team Time Trial\",\n",
    "                                            plot_data_points=True,\n",
    "                                            hovertool_string=\"\"\"<h3> @{Ride}</h3>\n",
    "                                                            Rider: <b>@{Pseudonym}</b><br>\n",
    "                                                            Time: <b>@{Finish Time}</b>\"\"\",\n",
    "                                            sizing_mode=\"scale_width\",\n",
    "                                            zooming=False,\n",
    "                                            return_html=True, show_figure=False\n",
    ")\n",
    "\n",
    "f.write('<hr>' + '<h2>' + '3rd Place Riders' + '</h2>')\n",
    "\n",
    "f.write(GC_html_graph)\n",
    "\n",
    "GC_html_table = df_results[['Ride', 'Pseudonym',  'Finish Time', 'Avg wKg']].to_html(classes=css_classes, border=0)\n",
    "\n",
    "f.write(GC_html_table)\n",
    "\n",
    "\n",
    "for ride_name in df_rides.keys():\n",
    "    f.write('<hr>' + '<h2>' + ride_name + '</h2>')\n",
    "    GC_html_table = df_rides[ride_name][['#', 'Pseudonym', 'Finish Time', 'Avg wKg']].to_html(classes=css_classes, border=0)\n",
    "\n",
    "    f.write(GC_html_table)\n"
   ]
  },
  {
   "cell_type": "code",
   "execution_count": 23,
   "metadata": {},
   "outputs": [
    {
     "data": {
      "text/plain": "1940"
     },
     "execution_count": 23,
     "metadata": {},
     "output_type": "execute_result"
    }
   ],
   "source": [
    "GC_html_graph = df_wkg.fillna(0).plot_bokeh(figsize=(1500, 700), plot_data_points=True, ylabel='W/kg', title=\"All Riders W/kg\", legend='bottom_center',\n",
    "                                            sizing_mode=\"scale_width\",\n",
    "                                            zooming=False,\n",
    "                                            return_html=True, show_figure=False)\n",
    "\n",
    "f.write('<hr>' + '<h2>' + 'All Riders' + '</h2>')\n",
    "\n",
    "f.write(GC_html_graph)\n",
    "\n",
    "GC_html_table = df_wkg.to_html(classes=css_classes, border=0)\n",
    "\n",
    "f.write(GC_html_table)"
   ]
  },
  {
   "cell_type": "code",
   "execution_count": null,
   "metadata": {},
   "outputs": [],
   "source": [
    "\n",
    "\n",
    "for mrett in mrett_gids.keys():\n",
    "    if mrett != 'GC':\n",
    "        df_mretts[mrett]['timedelta'] = pd.to_timedelta(df_mretts[mrett].Time) \n",
    "        df_mretts[mrett]['Time in Seconds'] = df_mretts[mrett]['timedelta'].dt.total_seconds() \n",
    "        df_mretts[mrett]['Time in Minutes'] = df_mretts[mrett]['Time in Seconds']/60\n",
    "        df_mretts[mrett]['Time in Minutes Truncated'] = divmod(df_mretts[mrett]['Time in Seconds'], 60)[0] \n",
    "        df_mretts[mrett]['Time Remainder in Seconds'] = divmod(df_mretts[mrett]['Time in Seconds'], 60)[1] \n",
    "        df_mretts[mrett]['Team Name'] = df_mretts[mrett].index\n",
    "\n",
    "\n",
    "stage_html_graphs = ''\n",
    "\n",
    "for mrett in mrett_gids.keys():\n",
    "    if mrett != 'GC':\n",
    "        out_html = df_mretts[mrett][::-1].plot_bokeh.barh(    \n",
    "            title = 'MRETT' + mrett,\n",
    "            xlabel = 'Time (Minutes)',\n",
    "            y='Time in Minutes',\n",
    "            alpha=0.6,\n",
    "            figsize=(1600, 600),\n",
    "            legend = \"top_right\",\n",
    "            hovertool_string=\"\"\"<h2> #@{#} \n",
    "                                @{Team Name} </h2>\n",
    "                                <h3> Time: @{Time} </h3>\"\"\",\n",
    "            sizing_mode=\"scale_width\",\n",
    "            zooming=False,\n",
    "            return_html=True, show_figure=False\n",
    "            )\n",
    "\n",
    "        \n",
    "\n",
    "        out_table_html = df_mretts[mrett][['#', 'Time', 'Diff', 'Points']].to_html(classes=css_classes, border=0)\n",
    "\n",
    "        f.write('<hr>' + '<h2>' + 'MRETT' + mrett + '</h2>')\n",
    "        f.write(out_html)\n",
    "        f.write(out_table_html)\n",
    "\n",
    "        #stage_html_graphs = stage_html_graphs + '<hr>' + '<h3>' + 'MRETT' + mrett + '</h3>' + '<p>' + out_html + '</p><p>' + out_table_html + '</p>'\n",
    "\n",
    "        \n"
   ]
  },
  {
   "cell_type": "code",
   "execution_count": 20,
   "metadata": {},
   "outputs": [],
   "source": [
    "f.write(\"</body></html>\")\n",
    "f.close()"
   ]
  },
  {
   "cell_type": "code",
   "execution_count": 5,
   "metadata": {},
   "outputs": [
    {
     "data": {
      "text/plain": "{'TLR MRETT21 Monday Race':    # Unnamed: 1                  Name         Finish Time  Avg wKg  \\\n 0  1          🥇  a1ba5d33c04caeae951d             37:15.5     4.34   \n 1  2          🥈  3703b4d380eff6486c62     37:16.0 + 0.471     3.08   \n 2  3          🥉  453ca50f305c3e40833a     37:16.5 + 0.986     3.38   \n 3  4        NaN  9feb8cd8727b826551a7    37:31.0 + 15.448     3.58   \n 4  5        NaN  a1ca08fbafa34471a7e8  46:27.4 + 9:11.907     2.45   \n 5  6        NaN  c16d1b73e6f802ab7333  46:35.8 + 9:20.252     1.96   \n \n                       Ride          Pseudonym  \n 0  TLR MRETT21 Monday Race      eager-meerkat  \n 1  TLR MRETT21 Monday Race  persimmon-jaybird  \n 2  TLR MRETT21 Monday Race       tactful-clam  \n 3  TLR MRETT21 Monday Race     watchful-panda  \n 4  TLR MRETT21 Monday Race      amaranth-myna  \n 5  TLR MRETT21 Monday Race  belligerent-swift  ,\n 'TLR MRETT22 Race Monday':    # Unnamed: 1                  Name         Finish Time  Avg wKg  \\\n 0  1          🥇  4f9fa5e6c5c093cc63f4             34:58.7     3.81   \n 1  2          🥈  a1ba5d33c04caeae951d     34:59.7 + 0.974     4.46   \n 2  3          🥉  453ca50f305c3e40833a     34:59.8 + 1.063     3.50   \n 3  4        NaN  c7601540ed2d8d453411     34:59.8 + 1.093     3.96   \n 4  5        NaN  9feb8cd8727b826551a7  38:10.4 + 3:11.689     3.48   \n 5  6        NaN  3703b4d380eff6486c62  39:01.3 + 4:02.522     3.23   \n \n                       Ride            Pseudonym  \n 0  TLR MRETT22 Race Monday  idealistic-porpoise  \n 1  TLR MRETT22 Race Monday        eager-meerkat  \n 2  TLR MRETT22 Race Monday         tactful-clam  \n 3  TLR MRETT22 Race Monday     loutish-antelope  \n 4  TLR MRETT22 Race Monday       watchful-panda  \n 5  TLR MRETT22 Race Monday    persimmon-jaybird  ,\n 'TLR MRETT23 Monday Race':    # Unnamed: 1                  Name         Finish Time  Avg wKg  \\\n 0  1          🥇  4f9fa5e6c5c093cc63f4             32:02.9     3.54   \n 1  2          🥈  a1ba5d33c04caeae951d     32:04.0 + 1.081     4.39   \n 2  3          🥉  c7601540ed2d8d453411     32:04.1 + 1.138     4.08   \n 3  4        NaN  3703b4d380eff6486c62     32:04.2 + 1.258     3.14   \n 4  5        NaN  453ca50f305c3e40833a     32:05.6 + 2.690     3.22   \n 5  6        NaN  9feb8cd8727b826551a7  36:12.7 + 4:09.738     3.54   \n \n                       Ride            Pseudonym  \n 0  TLR MRETT23 Monday Race  idealistic-porpoise  \n 1  TLR MRETT23 Monday Race        eager-meerkat  \n 2  TLR MRETT23 Monday Race     loutish-antelope  \n 3  TLR MRETT23 Monday Race    persimmon-jaybird  \n 4  TLR MRETT23 Monday Race         tactful-clam  \n 5  TLR MRETT23 Monday Race       watchful-panda  ,\n 'TLR MRETT24 Monday Race':    # Unnamed: 1                  Name         Finish Time  Avg wKg  \\\n 0  1          🥇  4f9fa5e6c5c093cc63f4             35:31.2     3.71   \n 1  2          🥈  a1ba5d33c04caeae951d     35:31.7 + 0.467     4.33   \n 2  3          🥉  c7601540ed2d8d453411     35:31.8 + 0.604     3.72   \n 3  4        NaN  3703b4d380eff6486c62     35:32.2 + 0.968     3.17   \n 4  5        NaN  9feb8cd8727b826551a7  38:02.0 + 2:30.781     3.32   \n 5  6        NaN  453ca50f305c3e40833a  38:30.6 + 2:59.424     3.26   \n \n                       Ride            Pseudonym  \n 0  TLR MRETT24 Monday Race  idealistic-porpoise  \n 1  TLR MRETT24 Monday Race        eager-meerkat  \n 2  TLR MRETT24 Monday Race     loutish-antelope  \n 3  TLR MRETT24 Monday Race    persimmon-jaybird  \n 4  TLR MRETT24 Monday Race       watchful-panda  \n 5  TLR MRETT24 Monday Race         tactful-clam  ,\n 'TLR MRETT25 Race Monday':    # Unnamed: 1                  Name         Finish Time  Avg wKg  \\\n 0  1          🥇  4f9fa5e6c5c093cc63f4             36:52.6     3.57   \n 1  2          🥈  a1ba5d33c04caeae951d     36:54.9 + 2.339     4.31   \n 2  3          🥉  453ca50f305c3e40833a     36:55.0 + 2.386     3.50   \n 3  4        NaN  3703b4d380eff6486c62     36:55.1 + 2.514     3.20   \n 4  5        NaN  9feb8cd8727b826551a7  41:20.6 + 4:28.006     3.45   \n \n                       Ride            Pseudonym  \n 0  TLR MRETT25 Race Monday  idealistic-porpoise  \n 1  TLR MRETT25 Race Monday        eager-meerkat  \n 2  TLR MRETT25 Race Monday         tactful-clam  \n 3  TLR MRETT25 Race Monday    persimmon-jaybird  \n 4  TLR MRETT25 Race Monday       watchful-panda  ,\n 'TLR MRETT26 Race Monday':    # Unnamed: 1                  Name         Finish Time  Avg wKg  \\\n 0  1          🥇  453ca50f305c3e40833a             37:20.8     3.35   \n 1  2          🥈  3703b4d380eff6486c62     37:20.9 + 0.119     3.12   \n 2  3          🥉  c7601540ed2d8d453411     37:20.9 + 0.127     3.78   \n 3  4        NaN  9feb8cd8727b826551a7  38:46.4 + 1:25.619     3.26   \n \n                       Ride          Pseudonym  \n 0  TLR MRETT26 Race Monday       tactful-clam  \n 1  TLR MRETT26 Race Monday  persimmon-jaybird  \n 2  TLR MRETT26 Race Monday   loutish-antelope  \n 3  TLR MRETT26 Race Monday     watchful-panda  }"
     },
     "execution_count": 5,
     "metadata": {},
     "output_type": "execute_result"
    }
   ],
   "source": [
    "df_rides"
   ]
  }
 ],
 "metadata": {
  "kernelspec": {
   "display_name": "Python 3.9.4 64-bit ('3.9.4': pyenv)",
   "name": "python394jvsc74a57bd0b8c2fbfdbc18dcce2f88c88d9eced592630ba03493a093db37681a0349a04d97"
  },
  "language_info": {
   "codemirror_mode": {
    "name": "ipython",
    "version": 3
   },
   "file_extension": ".py",
   "mimetype": "text/x-python",
   "name": "python",
   "nbconvert_exporter": "python",
   "pygments_lexer": "ipython3",
   "version": "3.9.4"
  },
  "orig_nbformat": 2
 },
 "nbformat": 4,
 "nbformat_minor": 2
}