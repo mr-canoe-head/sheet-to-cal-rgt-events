{
 "cells": [
  {
   "cell_type": "code",
   "execution_count": 10,
   "metadata": {},
   "outputs": [],
   "source": [
    "import pandas as pd\n",
    "\n",
    "mrett_gids = {\n",
    "    'GC' : '1384530880',\n",
    "    '21' : '0',\n",
    "    '22' : '601708178',\n",
    "    '23' : '171816323',\n",
    "    '24' : '1769801856',\n",
    "    '25' : '1953569581',\n",
    "    '26' : '1178762166'\n",
    "}\n",
    "\n",
    "df_mretts = {}\n",
    "\n",
    "for mrett in mrett_gids.keys():\n",
    "    filename = mrett + '.pickle'\n",
    "    df_mretts[mrett] = pd.read_pickle(filename)"
   ]
  },
  {
   "cell_type": "code",
   "execution_count": 11,
   "metadata": {},
   "outputs": [
    {
     "data": {
      "text/html": "<div>\n<style scoped>\n    .dataframe tbody tr th:only-of-type {\n        vertical-align: middle;\n    }\n\n    .dataframe tbody tr th {\n        vertical-align: top;\n    }\n\n    .dataframe thead th {\n        text-align: right;\n    }\n</style>\n<table border=\"1\" class=\"dataframe\">\n  <thead>\n    <tr style=\"text-align: right;\">\n      <th></th>\n      <th>#</th>\n      <th>Total</th>\n      <th>MRETT21</th>\n      <th>MRETT22</th>\n      <th>MRETT23</th>\n      <th>MRETT24</th>\n      <th>MRETT25</th>\n      <th>MRETT26</th>\n    </tr>\n    <tr>\n      <th>Team</th>\n      <th></th>\n      <th></th>\n      <th></th>\n      <th></th>\n      <th></th>\n      <th></th>\n      <th></th>\n      <th></th>\n    </tr>\n  </thead>\n  <tbody>\n    <tr>\n      <th>eCKD 1</th>\n      <td>1</td>\n      <td>1200</td>\n      <td>200.0</td>\n      <td>200.0</td>\n      <td>200.0</td>\n      <td>200.0</td>\n      <td>200.0</td>\n      <td>200.0</td>\n    </tr>\n    <tr>\n      <th>The Pedalers</th>\n      <td>2</td>\n      <td>1110</td>\n      <td>170.0</td>\n      <td>190.0</td>\n      <td>190.0</td>\n      <td>190.0</td>\n      <td>180.0</td>\n      <td>190.0</td>\n    </tr>\n    <tr>\n      <th>Rasio Racing</th>\n      <td>3</td>\n      <td>1100</td>\n      <td>190.0</td>\n      <td>180.0</td>\n      <td>180.0</td>\n      <td>180.0</td>\n      <td>190.0</td>\n      <td>180.0</td>\n    </tr>\n    <tr>\n      <th>Pocomotion</th>\n      <td>4</td>\n      <td>1020</td>\n      <td>175.0</td>\n      <td>165.0</td>\n      <td>170.0</td>\n      <td>165.0</td>\n      <td>175.0</td>\n      <td>170.0</td>\n    </tr>\n    <tr>\n      <th>OTR Black</th>\n      <td>5</td>\n      <td>1010</td>\n      <td>165.0</td>\n      <td>160.0</td>\n      <td>175.0</td>\n      <td>175.0</td>\n      <td>160.0</td>\n      <td>175.0</td>\n    </tr>\n    <tr>\n      <th>KISS Racing Team 1</th>\n      <td>6</td>\n      <td>980</td>\n      <td>150.0</td>\n      <td>175.0</td>\n      <td>155.0</td>\n      <td>170.0</td>\n      <td>165.0</td>\n      <td>165.0</td>\n    </tr>\n    <tr>\n      <th>Moon Riders</th>\n      <td>7</td>\n      <td>951</td>\n      <td>160.0</td>\n      <td>141.0</td>\n      <td>160.0</td>\n      <td>160.0</td>\n      <td>170.0</td>\n      <td>160.0</td>\n    </tr>\n    <tr>\n      <th>OTR Blue</th>\n      <td>8</td>\n      <td>920</td>\n      <td>155.0</td>\n      <td>170.0</td>\n      <td>145.0</td>\n      <td>145.0</td>\n      <td>150.0</td>\n      <td>155.0</td>\n    </tr>\n    <tr>\n      <th>OTR Green</th>\n      <td>9</td>\n      <td>898</td>\n      <td>141.0</td>\n      <td>137.0</td>\n      <td>165.0</td>\n      <td>150.0</td>\n      <td>155.0</td>\n      <td>150.0</td>\n    </tr>\n    <tr>\n      <th>Team Lou Racing Squad</th>\n      <td>10</td>\n      <td>877</td>\n      <td>137.0</td>\n      <td>145.0</td>\n      <td>150.0</td>\n      <td>155.0</td>\n      <td>145.0</td>\n      <td>145.0</td>\n    </tr>\n    <tr>\n      <th>eCKD 2</th>\n      <td>11</td>\n      <td>830</td>\n      <td>145.0</td>\n      <td>133.0</td>\n      <td>137.0</td>\n      <td>137.0</td>\n      <td>141.0</td>\n      <td>137.0</td>\n    </tr>\n    <tr>\n      <th>Westerley CC Purple</th>\n      <td>12</td>\n      <td>810</td>\n      <td>129.0</td>\n      <td>129.0</td>\n      <td>133.0</td>\n      <td>141.0</td>\n      <td>137.0</td>\n      <td>141.0</td>\n    </tr>\n    <tr>\n      <th>WKG Renegades</th>\n      <td>13</td>\n      <td>520</td>\n      <td>125.0</td>\n      <td>125.0</td>\n      <td>141.0</td>\n      <td>129.0</td>\n      <td>NaN</td>\n      <td>NaN</td>\n    </tr>\n    <tr>\n      <th>Westerlies</th>\n      <td>14</td>\n      <td>504</td>\n      <td>NaN</td>\n      <td>121.0</td>\n      <td>129.0</td>\n      <td>125.0</td>\n      <td>129.0</td>\n      <td>NaN</td>\n    </tr>\n    <tr>\n      <th>Team Lou Too</th>\n      <td>15</td>\n      <td>399</td>\n      <td>NaN</td>\n      <td>NaN</td>\n      <td>NaN</td>\n      <td>133.0</td>\n      <td>133.0</td>\n      <td>133.0</td>\n    </tr>\n    <tr>\n      <th>RGT France 1</th>\n      <td>16</td>\n      <td>335</td>\n      <td>180.0</td>\n      <td>155.0</td>\n      <td>NaN</td>\n      <td>NaN</td>\n      <td>NaN</td>\n      <td>NaN</td>\n    </tr>\n    <tr>\n      <th>Les Watts</th>\n      <td>17</td>\n      <td>150</td>\n      <td>NaN</td>\n      <td>150.0</td>\n      <td>NaN</td>\n      <td>NaN</td>\n      <td>NaN</td>\n      <td>NaN</td>\n    </tr>\n    <tr>\n      <th>Tricky Allsorts</th>\n      <td>18</td>\n      <td>133</td>\n      <td>133.0</td>\n      <td>NaN</td>\n      <td>NaN</td>\n      <td>NaN</td>\n      <td>NaN</td>\n      <td>NaN</td>\n    </tr>\n  </tbody>\n</table>\n</div>",
      "text/plain": "                        #  Total  MRETT21  MRETT22  MRETT23  MRETT24  MRETT25  \\\nTeam                                                                            \neCKD 1                  1   1200    200.0    200.0    200.0    200.0    200.0   \nThe Pedalers            2   1110    170.0    190.0    190.0    190.0    180.0   \nRasio Racing            3   1100    190.0    180.0    180.0    180.0    190.0   \nPocomotion              4   1020    175.0    165.0    170.0    165.0    175.0   \nOTR Black               5   1010    165.0    160.0    175.0    175.0    160.0   \nKISS Racing Team 1      6    980    150.0    175.0    155.0    170.0    165.0   \nMoon Riders             7    951    160.0    141.0    160.0    160.0    170.0   \nOTR Blue                8    920    155.0    170.0    145.0    145.0    150.0   \nOTR Green               9    898    141.0    137.0    165.0    150.0    155.0   \nTeam Lou Racing Squad  10    877    137.0    145.0    150.0    155.0    145.0   \neCKD 2                 11    830    145.0    133.0    137.0    137.0    141.0   \nWesterley CC Purple    12    810    129.0    129.0    133.0    141.0    137.0   \nWKG Renegades          13    520    125.0    125.0    141.0    129.0      NaN   \nWesterlies             14    504      NaN    121.0    129.0    125.0    129.0   \nTeam Lou Too           15    399      NaN      NaN      NaN    133.0    133.0   \nRGT France 1           16    335    180.0    155.0      NaN      NaN      NaN   \nLes Watts              17    150      NaN    150.0      NaN      NaN      NaN   \nTricky Allsorts        18    133    133.0      NaN      NaN      NaN      NaN   \n\n                       MRETT26  \nTeam                            \neCKD 1                   200.0  \nThe Pedalers             190.0  \nRasio Racing             180.0  \nPocomotion               170.0  \nOTR Black                175.0  \nKISS Racing Team 1       165.0  \nMoon Riders              160.0  \nOTR Blue                 155.0  \nOTR Green                150.0  \nTeam Lou Racing Squad    145.0  \neCKD 2                   137.0  \nWesterley CC Purple      141.0  \nWKG Renegades              NaN  \nWesterlies                 NaN  \nTeam Lou Too             133.0  \nRGT France 1               NaN  \nLes Watts                  NaN  \nTricky Allsorts            NaN  "
     },
     "execution_count": 11,
     "metadata": {},
     "output_type": "execute_result"
    }
   ],
   "source": [
    "df_mretts['GC']"
   ]
  },
  {
   "cell_type": "code",
   "execution_count": 12,
   "metadata": {},
   "outputs": [],
   "source": [
    "import pandas_bokeh\n",
    "\n",
    "css_classes = ['uk-table', 'uk-table-small', 'uk-table-hover', 'uk-table-divider', 'uk-table-striped']\n",
    "\n",
    "f = open(\"index.html\", \"w\")\n",
    "f.write(\"<html><head>\")\n",
    "\n",
    "f.write('''<html><head><title>MRETT Series 2</title>        <meta charset=\"utf-8\">\n",
    "        <meta name=\"viewport\" content=\"width=device-width, initial-scale=1\">\n",
    "        \n",
    "        <!-- UIkit CSS -->\n",
    "        <link rel=\"stylesheet\" href=\"https://cdn.jsdelivr.net/npm/uikit@3.6.22/dist/css/uikit.min.css\" />\n",
    "\n",
    "        <!-- UIkit JS -->\n",
    "        <script src=\"https://cdn.jsdelivr.net/npm/uikit@3.6.22/dist/js/uikit.min.js\"></script>\n",
    "        <script src=\"https://cdn.jsdelivr.net/npm/uikit@3.6.22/dist/js/uikit-icons.min.js\"></script>\n",
    "\n",
    "        </head><body><h1>MRETT Series 2</h1>''')\n",
    "\n",
    "\n",
    "GC_html_graph = df_mretts['GC'][::-1].loc[:,'MRETT21':'MRETT26'].fillna(0).plot_bokeh.barh(\n",
    "    ylabel=\"Team\",\n",
    "    xlabel=\"Points\", \n",
    "    title=\"MRETT Series 2 GC\", \n",
    "    stacked=True,\n",
    "    alpha=0.6,\n",
    "    figsize=(1600, 600),\n",
    "    legend = \"bottom_right\",\n",
    "    sizing_mode=\"scale_width\",\n",
    "    zooming=False,\n",
    "    return_html=True, show_figure=False\n",
    "    )\n",
    "\n",
    "f.write('<hr>' + '<h2>' + 'MRETT' + ' GC' + '</h2>')\n",
    "\n",
    "f.write(GC_html_graph)\n",
    "\n",
    "GC_html_table = df_mretts['GC'].to_html(classes=css_classes, border=0)\n",
    "\n",
    "f.write(GC_html_table)\n",
    "for mrett in mrett_gids.keys():\n",
    "    if mrett != 'GC':\n",
    "        df_mretts[mrett]['timedelta'] = pd.to_timedelta(df_mretts[mrett].Time) \n",
    "        df_mretts[mrett]['Time in Seconds'] = df_mretts[mrett]['timedelta'].dt.total_seconds() \n",
    "        df_mretts[mrett]['Time in Minutes'] = df_mretts[mrett]['Time in Seconds']/60\n",
    "        df_mretts[mrett]['Time in Minutes Truncated'] = divmod(df_mretts[mrett]['Time in Seconds'], 60)[0] \n",
    "        df_mretts[mrett]['Time Remainder in Seconds'] = divmod(df_mretts[mrett]['Time in Seconds'], 60)[1] \n",
    "        df_mretts[mrett]['Team Name'] = df_mretts[mrett].index\n",
    "\n",
    "\n",
    "stage_html_graphs = ''\n",
    "\n",
    "for mrett in mrett_gids.keys():\n",
    "    if mrett != 'GC':\n",
    "        out_html = df_mretts[mrett][::-1].plot_bokeh.barh(    \n",
    "            title = 'MRETT' + mrett,\n",
    "            xlabel = 'Time (Minutes)',\n",
    "            y='Time in Minutes',\n",
    "            alpha=0.6,\n",
    "            figsize=(1600, 600),\n",
    "            legend = \"top_right\",\n",
    "            hovertool_string=\"\"\"<h2> #@{#} \n",
    "                                @{Team Name} </h2>\n",
    "                                <h3> Time: @{Time} </h3>\"\"\",\n",
    "            sizing_mode=\"scale_width\",\n",
    "            zooming=False,\n",
    "            return_html=True, show_figure=False\n",
    "            )\n",
    "\n",
    "        \n",
    "\n",
    "        out_table_html = df_mretts[mrett][['#', 'Time', 'Diff', 'Points']].to_html(classes=css_classes, border=0)\n",
    "\n",
    "        f.write('<hr>' + '<h2>' + 'MRETT' + mrett + '</h2>')\n",
    "        f.write(out_html)\n",
    "        f.write(out_table_html)\n",
    "\n",
    "        #stage_html_graphs = stage_html_graphs + '<hr>' + '<h3>' + 'MRETT' + mrett + '</h3>' + '<p>' + out_html + '</p><p>' + out_table_html + '</p>'\n",
    "f.write(\"</body></html>\")\n",
    "f.close()"
   ]
  }
 ],
 "metadata": {
  "kernelspec": {
   "display_name": "Python 3.9.4 64-bit ('3.9.4': pyenv)",
   "name": "python394jvsc74a57bd0b8c2fbfdbc18dcce2f88c88d9eced592630ba03493a093db37681a0349a04d97"
  },
  "language_info": {
   "codemirror_mode": {
    "name": "ipython",
    "version": 3
   },
   "file_extension": ".py",
   "mimetype": "text/x-python",
   "name": "python",
   "nbconvert_exporter": "python",
   "pygments_lexer": "ipython3",
   "version": "3.9.4"
  },
  "orig_nbformat": 2
 },
 "nbformat": 4,
 "nbformat_minor": 2
}