{
 "cells": [
  {
   "cell_type": "markdown",
   "metadata": {},
   "source": [
    "# Read MRETT Events\n",
    "\n",
    "Example event URL: https://rgtdb.com/events/90452"
   ]
  },
  {
   "cell_type": "code",
   "execution_count": null,
   "metadata": {},
   "outputs": [],
   "source": []
  },
  {
   "cell_type": "code",
   "execution_count": 4,
   "metadata": {},
   "outputs": [],
   "source": [
    "import pandas as pd\n",
    "from datetime import datetime as dt\n",
    "import datetime\n"
   ]
  },
  {
   "cell_type": "markdown",
   "metadata": {},
   "source": [
    "## Google spreadsheet with event IDs\n",
    "\n",
    "https://docs.google.com/spreadsheets/d/1gE2gzncRuiwzY4xgKEbVDjSBUde8LGc7u9pIMQ0C6bQ/edit#gid=455438122"
   ]
  },
  {
   "cell_type": "code",
   "execution_count": 11,
   "metadata": {},
   "outputs": [
    {
     "data": {
      "text/html": "<div>\n<style scoped>\n    .dataframe tbody tr th:only-of-type {\n        vertical-align: middle;\n    }\n\n    .dataframe tbody tr th {\n        vertical-align: top;\n    }\n\n    .dataframe thead th {\n        text-align: right;\n    }\n</style>\n<table border=\"1\" class=\"dataframe\">\n  <thead>\n    <tr style=\"text-align: right;\">\n      <th></th>\n      <th>rgtdb-Event-Id</th>\n      <th>Unnamed: 2</th>\n      <th>https://rgtdb.com/events/</th>\n      <th>/broadcast</th>\n    </tr>\n    <tr>\n      <th>Team</th>\n      <th></th>\n      <th></th>\n      <th></th>\n      <th></th>\n    </tr>\n  </thead>\n  <tbody>\n    <tr>\n      <th>eCKD 1</th>\n      <td>88199</td>\n      <td>NaN</td>\n      <td>NaN</td>\n      <td>NaN</td>\n    </tr>\n    <tr>\n      <th>eCKD 2</th>\n      <td>86514</td>\n      <td>NaN</td>\n      <td>NaN</td>\n      <td>NaN</td>\n    </tr>\n    <tr>\n      <th>KISS Racing Team 1</th>\n      <td>86464</td>\n      <td>NaN</td>\n      <td>NaN</td>\n      <td>NaN</td>\n    </tr>\n    <tr>\n      <th>Moon Riders</th>\n      <td>87356</td>\n      <td>NaN</td>\n      <td>NaN</td>\n      <td>NaN</td>\n    </tr>\n    <tr>\n      <th>OTR Black</th>\n      <td>86356</td>\n      <td>NaN</td>\n      <td>NaN</td>\n      <td>NaN</td>\n    </tr>\n    <tr>\n      <th>OTR Blue</th>\n      <td>86731</td>\n      <td>NaN</td>\n      <td>NaN</td>\n      <td>NaN</td>\n    </tr>\n    <tr>\n      <th>OTR Green</th>\n      <td>86338</td>\n      <td>NaN</td>\n      <td>NaN</td>\n      <td>NaN</td>\n    </tr>\n    <tr>\n      <th>Pocomotion</th>\n      <td>88001</td>\n      <td>NaN</td>\n      <td>NaN</td>\n      <td>NaN</td>\n    </tr>\n    <tr>\n      <th>Rasio Racing</th>\n      <td>87263</td>\n      <td>NaN</td>\n      <td>NaN</td>\n      <td>NaN</td>\n    </tr>\n    <tr>\n      <th>RGT France 1</th>\n      <td>87645</td>\n      <td>NaN</td>\n      <td>NaN</td>\n      <td>NaN</td>\n    </tr>\n    <tr>\n      <th>Team Lou Racing Squad</th>\n      <td>86163</td>\n      <td>NaN</td>\n      <td>NaN</td>\n      <td>NaN</td>\n    </tr>\n    <tr>\n      <th>The Pedalers</th>\n      <td>86674</td>\n      <td>NaN</td>\n      <td>NaN</td>\n      <td>NaN</td>\n    </tr>\n    <tr>\n      <th>Tricky Allsorts</th>\n      <td>86411</td>\n      <td>NaN</td>\n      <td>NaN</td>\n      <td>NaN</td>\n    </tr>\n    <tr>\n      <th>Westerley CC Purple</th>\n      <td>86511</td>\n      <td>NaN</td>\n      <td>NaN</td>\n      <td>NaN</td>\n    </tr>\n    <tr>\n      <th>WKG Renegades</th>\n      <td>86181</td>\n      <td>NaN</td>\n      <td>NaN</td>\n      <td>NaN</td>\n    </tr>\n  </tbody>\n</table>\n</div>",
      "text/plain": "                       rgtdb-Event-Id  Unnamed: 2  https://rgtdb.com/events/  \\\nTeam                                                                           \neCKD 1                          88199         NaN                        NaN   \neCKD 2                          86514         NaN                        NaN   \nKISS Racing Team 1              86464         NaN                        NaN   \nMoon Riders                     87356         NaN                        NaN   \nOTR Black                       86356         NaN                        NaN   \nOTR Blue                        86731         NaN                        NaN   \nOTR Green                       86338         NaN                        NaN   \nPocomotion                      88001         NaN                        NaN   \nRasio Racing                    87263         NaN                        NaN   \nRGT France 1                    87645         NaN                        NaN   \nTeam Lou Racing Squad           86163         NaN                        NaN   \nThe Pedalers                    86674         NaN                        NaN   \nTricky Allsorts                 86411         NaN                        NaN   \nWesterley CC Purple             86511         NaN                        NaN   \nWKG Renegades                   86181         NaN                        NaN   \n\n                       /broadcast  \nTeam                               \neCKD 1                        NaN  \neCKD 2                        NaN  \nKISS Racing Team 1            NaN  \nMoon Riders                   NaN  \nOTR Black                     NaN  \nOTR Blue                      NaN  \nOTR Green                     NaN  \nPocomotion                    NaN  \nRasio Racing                  NaN  \nRGT France 1                  NaN  \nTeam Lou Racing Squad         NaN  \nThe Pedalers                  NaN  \nTricky Allsorts               NaN  \nWesterley CC Purple           NaN  \nWKG Renegades                 NaN  "
     },
     "execution_count": 11,
     "metadata": {},
     "output_type": "execute_result"
    }
   ],
   "source": [
    "df_events = pd.read_csv('https://docs.google.com/spreadsheets/d/' + \n",
    "                   '1gE2gzncRuiwzY4xgKEbVDjSBUde8LGc7u9pIMQ0C6bQ' +\n",
    "                   '/export?gid=' + '455438122' + '&format=csv',\n",
    "                   # Set first column as rownames in data frame\n",
    "                   index_col=0,\n",
    "                   # Parse column values to datetime\n",
    "                   #parse_dates=['Quradate']\n",
    "                  )\n",
    "df_events"
   ]
  },
  {
   "cell_type": "code",
   "execution_count": 21,
   "metadata": {},
   "outputs": [
    {
     "data": {
      "text/plain": "88199"
     },
     "execution_count": 21,
     "metadata": {},
     "output_type": "execute_result"
    }
   ],
   "source": [
    "int(df_events.loc['eCKD 1'][0])"
   ]
  },
  {
   "cell_type": "code",
   "execution_count": 22,
   "metadata": {},
   "outputs": [
    {
     "name": "stdout",
     "output_type": "stream",
     "text": [
      "eCKD 1 88199.0\n",
      "eCKD 2 86514.0\n",
      "KISS Racing Team 1 86464.0\n",
      "Moon Riders 87356.0\n",
      "OTR Black 86356.0\n",
      "OTR Blue 86731.0\n",
      "OTR Green 86338.0\n",
      "Pocomotion 88001.0\n",
      "Rasio Racing 87263.0\n",
      "RGT France 1 87645.0\n",
      "Team Lou Racing Squad 86163.0\n",
      "The Pedalers 86674.0\n",
      "Tricky Allsorts 86411.0\n",
      "Westerley CC Purple 86511.0\n",
      "WKG Renegades 86181.0\n"
     ]
    }
   ],
   "source": [
    "df_teams = {}\n",
    "\n",
    "for index, row, in df_events.iterrows():\n",
    "    eventID = str(int(row[0]))\n",
    "\n",
    "    print(index, eventID)\n",
    "    \n",
    "    dfs_team_event = pd.read_html('https://rgtdb.com/events/' + eventID)\n",
    "    df_team_times = dfs_team_event[1]\n",
    "    df_teams[index] = df_team_times\n",
    "\n",
    "\n"
   ]
  },
  {
   "cell_type": "code",
   "execution_count": 47,
   "metadata": {},
   "outputs": [
    {
     "data": {
      "text/html": "<div>\n<style scoped>\n    .dataframe tbody tr th:only-of-type {\n        vertical-align: middle;\n    }\n\n    .dataframe tbody tr th {\n        vertical-align: top;\n    }\n\n    .dataframe thead th {\n        text-align: right;\n    }\n</style>\n<table border=\"1\" class=\"dataframe\">\n  <thead>\n    <tr style=\"text-align: right;\">\n      <th></th>\n      <th>#</th>\n      <th>Unnamed: 1</th>\n      <th>Name</th>\n      <th>Finish Time</th>\n      <th>Avg wKg</th>\n    </tr>\n    <tr>\n      <th>Team</th>\n      <th></th>\n      <th></th>\n      <th></th>\n      <th></th>\n      <th></th>\n    </tr>\n  </thead>\n  <tbody>\n    <tr>\n      <th>eCKD 1</th>\n      <td>3</td>\n      <td>🥉</td>\n      <td>Claus Bering (m)  eCKD</td>\n      <td>33:47.1 + 0.177</td>\n      <td>4.22</td>\n    </tr>\n    <tr>\n      <th>eCKD 2</th>\n      <td>3</td>\n      <td>🥉</td>\n      <td>Kurt nørum Pedersen(m)  eCKD</td>\n      <td>36:03.9 + 0.961</td>\n      <td>3.60</td>\n    </tr>\n    <tr>\n      <th>KISS Racing Team 1</th>\n      <td>3</td>\n      <td>🥉</td>\n      <td>Ed Aguayo</td>\n      <td>36:00.8 + 0.387</td>\n      <td>3.86</td>\n    </tr>\n    <tr>\n      <th>Moon Riders</th>\n      <td>3</td>\n      <td>🥉</td>\n      <td>Timo Achenbach  MoonRiders</td>\n      <td>35:38.2 + 1.457</td>\n      <td>4.31</td>\n    </tr>\n    <tr>\n      <th>OTR Black</th>\n      <td>3</td>\n      <td>🥉</td>\n      <td>Chris (otr) Hopkinson(m)</td>\n      <td>35:18.2 + 0.940</td>\n      <td>4.38</td>\n    </tr>\n    <tr>\n      <th>OTR Blue</th>\n      <td>3</td>\n      <td>🥉</td>\n      <td>K. Eith (otr) e  OTR Racing</td>\n      <td>35:57.6 + 0.499</td>\n      <td>4.50</td>\n    </tr>\n    <tr>\n      <th>OTR Green</th>\n      <td>3</td>\n      <td>🥉</td>\n      <td>Stewart Murray (otr)  OTR Racing</td>\n      <td>36:08.0 + 2.092</td>\n      <td>3.08</td>\n    </tr>\n    <tr>\n      <th>Pocomotion</th>\n      <td>3</td>\n      <td>NaN</td>\n      <td>Kristen Ege</td>\n      <td>35:02.8 + 3.421</td>\n      <td>3.32</td>\n    </tr>\n    <tr>\n      <th>Rasio Racing</th>\n      <td>3</td>\n      <td>🥉</td>\n      <td>Mark Rowbottom яʀ  яʀ</td>\n      <td>33:52.7 + 3.510</td>\n      <td>4.24</td>\n    </tr>\n    <tr>\n      <th>RGT France 1</th>\n      <td>3</td>\n      <td>🥉</td>\n      <td>E fernet3cy c  [3cy]</td>\n      <td>34:50.0 + 2.640</td>\n      <td>3.96</td>\n    </tr>\n    <tr>\n      <th>Team Lou Racing Squad</th>\n      <td>3</td>\n      <td>🥉</td>\n      <td>Sigsworth Ben (tlr)(m)  Bo</td>\n      <td>37:16.5 + 0.986</td>\n      <td>3.38</td>\n    </tr>\n    <tr>\n      <th>The Pedalers</th>\n      <td>3</td>\n      <td>🥉</td>\n      <td>Francis Lambert  Pedalers</td>\n      <td>35:05.2 + 1.493</td>\n      <td>3.76</td>\n    </tr>\n    <tr>\n      <th>Tricky Allsorts</th>\n      <td>3</td>\n      <td>🥉</td>\n      <td>James Byatt</td>\n      <td>37:44.0 + 10.416</td>\n      <td>3.72</td>\n    </tr>\n    <tr>\n      <th>Westerley CC Purple</th>\n      <td>3</td>\n      <td>🥉</td>\n      <td>David wcc Buckley wcc</td>\n      <td>37:46.2 + 0.368</td>\n      <td>2.87</td>\n    </tr>\n    <tr>\n      <th>WKG Renegades</th>\n      <td>3</td>\n      <td>🥉</td>\n      <td>Mike Gamble</td>\n      <td>38:38.7 + 1.177</td>\n      <td>3.21</td>\n    </tr>\n  </tbody>\n</table>\n</div>",
      "text/plain": "                       # Unnamed: 1                              Name  \\\nTeam                                                                    \neCKD 1                 3          🥉            Claus Bering (m)  eCKD   \neCKD 2                 3          🥉      Kurt nørum Pedersen(m)  eCKD   \nKISS Racing Team 1     3          🥉                         Ed Aguayo   \nMoon Riders            3          🥉        Timo Achenbach  MoonRiders   \nOTR Black              3          🥉          Chris (otr) Hopkinson(m)   \nOTR Blue               3          🥉       K. Eith (otr) e  OTR Racing   \nOTR Green              3          🥉  Stewart Murray (otr)  OTR Racing   \nPocomotion             3        NaN                       Kristen Ege   \nRasio Racing           3          🥉             Mark Rowbottom яʀ  яʀ   \nRGT France 1           3          🥉              E fernet3cy c  [3cy]   \nTeam Lou Racing Squad  3          🥉        Sigsworth Ben (tlr)(m)  Bo   \nThe Pedalers           3          🥉         Francis Lambert  Pedalers   \nTricky Allsorts        3          🥉                       James Byatt   \nWesterley CC Purple    3          🥉             David wcc Buckley wcc   \nWKG Renegades          3          🥉                       Mike Gamble   \n\n                            Finish Time  Avg wKg  \nTeam                                              \neCKD 1                  33:47.1 + 0.177     4.22  \neCKD 2                  36:03.9 + 0.961     3.60  \nKISS Racing Team 1      36:00.8 + 0.387     3.86  \nMoon Riders             35:38.2 + 1.457     4.31  \nOTR Black               35:18.2 + 0.940     4.38  \nOTR Blue                35:57.6 + 0.499     4.50  \nOTR Green               36:08.0 + 2.092     3.08  \nPocomotion              35:02.8 + 3.421     3.32  \nRasio Racing            33:52.7 + 3.510     4.24  \nRGT France 1            34:50.0 + 2.640     3.96  \nTeam Lou Racing Squad   37:16.5 + 0.986     3.38  \nThe Pedalers            35:05.2 + 1.493     3.76  \nTricky Allsorts        37:44.0 + 10.416     3.72  \nWesterley CC Purple     37:46.2 + 0.368     2.87  \nWKG Renegades           38:38.7 + 1.177     3.21  "
     },
     "execution_count": 47,
     "metadata": {},
     "output_type": "execute_result"
    }
   ],
   "source": [
    "df_3rd = pd.DataFrame()\n",
    "\n",
    "for key in df_teams.keys():\n",
    "    #print(df_teams[key].iloc[2])\n",
    "    df_3rd = df_3rd.append([df_teams[key].iloc[2]])\n",
    "\n",
    "df_3rd['Team'] = df_teams.keys()\n",
    "df_3rd.set_index('Team', inplace=True)\n",
    "df_3rd\n"
   ]
  },
  {
   "cell_type": "code",
   "execution_count": 55,
   "metadata": {},
   "outputs": [],
   "source": [
    "df_3rd[['Time', 'Diff']] = df_3rd['Finish Time'].str.split('+', expand=True)"
   ]
  },
  {
   "cell_type": "code",
   "execution_count": 66,
   "metadata": {},
   "outputs": [],
   "source": [
    "#df_3rd['timedelta'] = pd.to_timedelta(df_3rd['Time']) \n",
    "#df_3rd['Time in Seconds'] = df_3rd['timedelta'].dt.total_seconds() \n",
    "\n",
    "\n",
    "df_3rd['timedelta'] = pd.to_timedelta('00:' + df_3rd['Time'])\n",
    "df_3rd['Time in Seconds'] = df_3rd['timedelta'].dt.total_seconds() \n"
   ]
  },
  {
   "cell_type": "code",
   "execution_count": 68,
   "metadata": {},
   "outputs": [
    {
     "data": {
      "text/html": "<div>\n<style scoped>\n    .dataframe tbody tr th:only-of-type {\n        vertical-align: middle;\n    }\n\n    .dataframe tbody tr th {\n        vertical-align: top;\n    }\n\n    .dataframe thead th {\n        text-align: right;\n    }\n</style>\n<table border=\"1\" class=\"dataframe\">\n  <thead>\n    <tr style=\"text-align: right;\">\n      <th></th>\n      <th>#</th>\n      <th>Unnamed: 1</th>\n      <th>Name</th>\n      <th>Finish Time</th>\n      <th>Avg wKg</th>\n      <th>Time</th>\n      <th>Diff</th>\n      <th>timedelta</th>\n      <th>Time in Seconds</th>\n    </tr>\n    <tr>\n      <th>Team</th>\n      <th></th>\n      <th></th>\n      <th></th>\n      <th></th>\n      <th></th>\n      <th></th>\n      <th></th>\n      <th></th>\n      <th></th>\n    </tr>\n  </thead>\n  <tbody>\n    <tr>\n      <th>eCKD 1</th>\n      <td>3</td>\n      <td>🥉</td>\n      <td>Claus Bering (m)  eCKD</td>\n      <td>33:47.1 + 0.177</td>\n      <td>4.22</td>\n      <td>33:47.1</td>\n      <td>0.177</td>\n      <td>0 days 00:33:47.100000</td>\n      <td>2027.1</td>\n    </tr>\n    <tr>\n      <th>Rasio Racing</th>\n      <td>3</td>\n      <td>🥉</td>\n      <td>Mark Rowbottom яʀ  яʀ</td>\n      <td>33:52.7 + 3.510</td>\n      <td>4.24</td>\n      <td>33:52.7</td>\n      <td>3.510</td>\n      <td>0 days 00:33:52.700000</td>\n      <td>2032.7</td>\n    </tr>\n    <tr>\n      <th>RGT France 1</th>\n      <td>3</td>\n      <td>🥉</td>\n      <td>E fernet3cy c  [3cy]</td>\n      <td>34:50.0 + 2.640</td>\n      <td>3.96</td>\n      <td>34:50.0</td>\n      <td>2.640</td>\n      <td>0 days 00:34:50</td>\n      <td>2090.0</td>\n    </tr>\n    <tr>\n      <th>Pocomotion</th>\n      <td>3</td>\n      <td>NaN</td>\n      <td>Kristen Ege</td>\n      <td>35:02.8 + 3.421</td>\n      <td>3.32</td>\n      <td>35:02.8</td>\n      <td>3.421</td>\n      <td>0 days 00:35:02.800000</td>\n      <td>2102.8</td>\n    </tr>\n    <tr>\n      <th>The Pedalers</th>\n      <td>3</td>\n      <td>🥉</td>\n      <td>Francis Lambert  Pedalers</td>\n      <td>35:05.2 + 1.493</td>\n      <td>3.76</td>\n      <td>35:05.2</td>\n      <td>1.493</td>\n      <td>0 days 00:35:05.200000</td>\n      <td>2105.2</td>\n    </tr>\n    <tr>\n      <th>OTR Black</th>\n      <td>3</td>\n      <td>🥉</td>\n      <td>Chris (otr) Hopkinson(m)</td>\n      <td>35:18.2 + 0.940</td>\n      <td>4.38</td>\n      <td>35:18.2</td>\n      <td>0.940</td>\n      <td>0 days 00:35:18.200000</td>\n      <td>2118.2</td>\n    </tr>\n    <tr>\n      <th>Moon Riders</th>\n      <td>3</td>\n      <td>🥉</td>\n      <td>Timo Achenbach  MoonRiders</td>\n      <td>35:38.2 + 1.457</td>\n      <td>4.31</td>\n      <td>35:38.2</td>\n      <td>1.457</td>\n      <td>0 days 00:35:38.200000</td>\n      <td>2138.2</td>\n    </tr>\n    <tr>\n      <th>OTR Blue</th>\n      <td>3</td>\n      <td>🥉</td>\n      <td>K. Eith (otr) e  OTR Racing</td>\n      <td>35:57.6 + 0.499</td>\n      <td>4.50</td>\n      <td>35:57.6</td>\n      <td>0.499</td>\n      <td>0 days 00:35:57.600000</td>\n      <td>2157.6</td>\n    </tr>\n    <tr>\n      <th>KISS Racing Team 1</th>\n      <td>3</td>\n      <td>🥉</td>\n      <td>Ed Aguayo</td>\n      <td>36:00.8 + 0.387</td>\n      <td>3.86</td>\n      <td>36:00.8</td>\n      <td>0.387</td>\n      <td>0 days 00:36:00.800000</td>\n      <td>2160.8</td>\n    </tr>\n    <tr>\n      <th>eCKD 2</th>\n      <td>3</td>\n      <td>🥉</td>\n      <td>Kurt nørum Pedersen(m)  eCKD</td>\n      <td>36:03.9 + 0.961</td>\n      <td>3.60</td>\n      <td>36:03.9</td>\n      <td>0.961</td>\n      <td>0 days 00:36:03.900000</td>\n      <td>2163.9</td>\n    </tr>\n    <tr>\n      <th>OTR Green</th>\n      <td>3</td>\n      <td>🥉</td>\n      <td>Stewart Murray (otr)  OTR Racing</td>\n      <td>36:08.0 + 2.092</td>\n      <td>3.08</td>\n      <td>36:08.0</td>\n      <td>2.092</td>\n      <td>0 days 00:36:08</td>\n      <td>2168.0</td>\n    </tr>\n    <tr>\n      <th>Team Lou Racing Squad</th>\n      <td>3</td>\n      <td>🥉</td>\n      <td>Sigsworth Ben (tlr)(m)  Bo</td>\n      <td>37:16.5 + 0.986</td>\n      <td>3.38</td>\n      <td>37:16.5</td>\n      <td>0.986</td>\n      <td>0 days 00:37:16.500000</td>\n      <td>2236.5</td>\n    </tr>\n    <tr>\n      <th>Tricky Allsorts</th>\n      <td>3</td>\n      <td>🥉</td>\n      <td>James Byatt</td>\n      <td>37:44.0 + 10.416</td>\n      <td>3.72</td>\n      <td>37:44.0</td>\n      <td>10.416</td>\n      <td>0 days 00:37:44</td>\n      <td>2264.0</td>\n    </tr>\n    <tr>\n      <th>Westerley CC Purple</th>\n      <td>3</td>\n      <td>🥉</td>\n      <td>David wcc Buckley wcc</td>\n      <td>37:46.2 + 0.368</td>\n      <td>2.87</td>\n      <td>37:46.2</td>\n      <td>0.368</td>\n      <td>0 days 00:37:46.200000</td>\n      <td>2266.2</td>\n    </tr>\n    <tr>\n      <th>WKG Renegades</th>\n      <td>3</td>\n      <td>🥉</td>\n      <td>Mike Gamble</td>\n      <td>38:38.7 + 1.177</td>\n      <td>3.21</td>\n      <td>38:38.7</td>\n      <td>1.177</td>\n      <td>0 days 00:38:38.700000</td>\n      <td>2318.7</td>\n    </tr>\n  </tbody>\n</table>\n</div>",
      "text/plain": "                       # Unnamed: 1                              Name  \\\nTeam                                                                    \neCKD 1                 3          🥉            Claus Bering (m)  eCKD   \nRasio Racing           3          🥉             Mark Rowbottom яʀ  яʀ   \nRGT France 1           3          🥉              E fernet3cy c  [3cy]   \nPocomotion             3        NaN                       Kristen Ege   \nThe Pedalers           3          🥉         Francis Lambert  Pedalers   \nOTR Black              3          🥉          Chris (otr) Hopkinson(m)   \nMoon Riders            3          🥉        Timo Achenbach  MoonRiders   \nOTR Blue               3          🥉       K. Eith (otr) e  OTR Racing   \nKISS Racing Team 1     3          🥉                         Ed Aguayo   \neCKD 2                 3          🥉      Kurt nørum Pedersen(m)  eCKD   \nOTR Green              3          🥉  Stewart Murray (otr)  OTR Racing   \nTeam Lou Racing Squad  3          🥉        Sigsworth Ben (tlr)(m)  Bo   \nTricky Allsorts        3          🥉                       James Byatt   \nWesterley CC Purple    3          🥉             David wcc Buckley wcc   \nWKG Renegades          3          🥉                       Mike Gamble   \n\n                            Finish Time  Avg wKg      Time     Diff  \\\nTeam                                                                  \neCKD 1                  33:47.1 + 0.177     4.22  33:47.1     0.177   \nRasio Racing            33:52.7 + 3.510     4.24  33:52.7     3.510   \nRGT France 1            34:50.0 + 2.640     3.96  34:50.0     2.640   \nPocomotion              35:02.8 + 3.421     3.32  35:02.8     3.421   \nThe Pedalers            35:05.2 + 1.493     3.76  35:05.2     1.493   \nOTR Black               35:18.2 + 0.940     4.38  35:18.2     0.940   \nMoon Riders             35:38.2 + 1.457     4.31  35:38.2     1.457   \nOTR Blue                35:57.6 + 0.499     4.50  35:57.6     0.499   \nKISS Racing Team 1      36:00.8 + 0.387     3.86  36:00.8     0.387   \neCKD 2                  36:03.9 + 0.961     3.60  36:03.9     0.961   \nOTR Green               36:08.0 + 2.092     3.08  36:08.0     2.092   \nTeam Lou Racing Squad   37:16.5 + 0.986     3.38  37:16.5     0.986   \nTricky Allsorts        37:44.0 + 10.416     3.72  37:44.0    10.416   \nWesterley CC Purple     37:46.2 + 0.368     2.87  37:46.2     0.368   \nWKG Renegades           38:38.7 + 1.177     3.21  38:38.7     1.177   \n\n                                   timedelta  Time in Seconds  \nTeam                                                           \neCKD 1                0 days 00:33:47.100000           2027.1  \nRasio Racing          0 days 00:33:52.700000           2032.7  \nRGT France 1                 0 days 00:34:50           2090.0  \nPocomotion            0 days 00:35:02.800000           2102.8  \nThe Pedalers          0 days 00:35:05.200000           2105.2  \nOTR Black             0 days 00:35:18.200000           2118.2  \nMoon Riders           0 days 00:35:38.200000           2138.2  \nOTR Blue              0 days 00:35:57.600000           2157.6  \nKISS Racing Team 1    0 days 00:36:00.800000           2160.8  \neCKD 2                0 days 00:36:03.900000           2163.9  \nOTR Green                    0 days 00:36:08           2168.0  \nTeam Lou Racing Squad 0 days 00:37:16.500000           2236.5  \nTricky Allsorts              0 days 00:37:44           2264.0  \nWesterley CC Purple   0 days 00:37:46.200000           2266.2  \nWKG Renegades         0 days 00:38:38.700000           2318.7  "
     },
     "execution_count": 68,
     "metadata": {},
     "output_type": "execute_result"
    }
   ],
   "source": [
    "df_3rd.sort_values('timedelta')"
   ]
  },
  {
   "cell_type": "code",
   "execution_count": 5,
   "metadata": {},
   "outputs": [
    {
     "data": {
      "text/html": "<div>\n<style scoped>\n    .dataframe tbody tr th:only-of-type {\n        vertical-align: middle;\n    }\n\n    .dataframe tbody tr th {\n        vertical-align: top;\n    }\n\n    .dataframe thead th {\n        text-align: right;\n    }\n</style>\n<table border=\"1\" class=\"dataframe\">\n  <thead>\n    <tr style=\"text-align: right;\">\n      <th></th>\n      <th>#</th>\n      <th>Unnamed: 1</th>\n      <th>Name</th>\n      <th>Finish Time</th>\n      <th>Avg wKg</th>\n    </tr>\n  </thead>\n  <tbody>\n    <tr>\n      <th>0</th>\n      <td>1</td>\n      <td>🥇</td>\n      <td>Henrik Heibøll  eCKD</td>\n      <td>29:31.6</td>\n      <td>4.24</td>\n    </tr>\n    <tr>\n      <th>1</th>\n      <td>2</td>\n      <td>🥈</td>\n      <td>Martin Breum(m)</td>\n      <td>29:31.6 + 0.026</td>\n      <td>4.49</td>\n    </tr>\n    <tr>\n      <th>2</th>\n      <td>3</td>\n      <td>🥉</td>\n      <td>Flemming Bach (m)  eCKD</td>\n      <td>29:31.6 + 0.036</td>\n      <td>3.80</td>\n    </tr>\n    <tr>\n      <th>3</th>\n      <td>4</td>\n      <td>NaN</td>\n      <td>Martin Jacobsen (m)</td>\n      <td>29:31.6 + 0.041</td>\n      <td>3.95</td>\n    </tr>\n    <tr>\n      <th>4</th>\n      <td>5</td>\n      <td>NaN</td>\n      <td>Rasmus Feldballe(m)  eCKD</td>\n      <td>29:31.8 + 0.215</td>\n      <td>4.32</td>\n    </tr>\n    <tr>\n      <th>5</th>\n      <td>6</td>\n      <td>NaN</td>\n      <td>Claus Bering (m)  eCKD</td>\n      <td>34:58.7 + 5:27.094</td>\n      <td>3.25</td>\n    </tr>\n  </tbody>\n</table>\n</div>",
      "text/plain": "   # Unnamed: 1                       Name         Finish Time  Avg wKg\n0  1          🥇       Henrik Heibøll  eCKD             29:31.6     4.24\n1  2          🥈            Martin Breum(m)     29:31.6 + 0.026     4.49\n2  3          🥉    Flemming Bach (m)  eCKD     29:31.6 + 0.036     3.80\n3  4        NaN        Martin Jacobsen (m)     29:31.6 + 0.041     3.95\n4  5        NaN  Rasmus Feldballe(m)  eCKD     29:31.8 + 0.215     4.32\n5  6        NaN     Claus Bering (m)  eCKD  34:58.7 + 5:27.094     3.25"
     },
     "execution_count": 5,
     "metadata": {},
     "output_type": "execute_result"
    }
   ],
   "source": [
    "\n",
    "eventID = '90452'\n",
    "\n",
    "dfs = pd.read_html('https://rgtdb.com/events/' + eventID)\n",
    "df = dfs[1]"
   ]
  },
  {
   "cell_type": "code",
   "execution_count": 9,
   "metadata": {},
   "outputs": [
    {
     "data": {
      "text/plain": "'29:31.6 '"
     },
     "execution_count": 9,
     "metadata": {},
     "output_type": "execute_result"
    }
   ],
   "source": [
    "df.iloc[2]['Finish Time'].split('+')[0]"
   ]
  },
  {
   "cell_type": "code",
   "execution_count": 10,
   "metadata": {},
   "outputs": [
    {
     "data": {
      "text/html": "<style  type=\"text/css\" >\n</style><table id=\"T_7b3b1_\" ><caption>MRETT21</caption><thead>    <tr>        <th class=\"blank level0\" ></th>        <th class=\"col_heading level0 col0\" >#</th>        <th class=\"col_heading level0 col1\" >Unnamed: 1</th>        <th class=\"col_heading level0 col2\" >Name</th>        <th class=\"col_heading level0 col3\" >Finish Time</th>        <th class=\"col_heading level0 col4\" >Avg wKg</th>    </tr></thead><tbody>\n                <tr>\n                        <th id=\"T_7b3b1_level0_row0\" class=\"row_heading level0 row0\" >0</th>\n                        <td id=\"T_7b3b1_row0_col0\" class=\"data row0 col0\" >1</td>\n                        <td id=\"T_7b3b1_row0_col1\" class=\"data row0 col1\" >🥇</td>\n                        <td id=\"T_7b3b1_row0_col2\" class=\"data row0 col2\" >Henrik Heibøll  eCKD</td>\n                        <td id=\"T_7b3b1_row0_col3\" class=\"data row0 col3\" >29:31.6</td>\n                        <td id=\"T_7b3b1_row0_col4\" class=\"data row0 col4\" >4.240000</td>\n            </tr>\n            <tr>\n                        <th id=\"T_7b3b1_level0_row1\" class=\"row_heading level0 row1\" >1</th>\n                        <td id=\"T_7b3b1_row1_col0\" class=\"data row1 col0\" >2</td>\n                        <td id=\"T_7b3b1_row1_col1\" class=\"data row1 col1\" >🥈</td>\n                        <td id=\"T_7b3b1_row1_col2\" class=\"data row1 col2\" >Martin Breum(m)</td>\n                        <td id=\"T_7b3b1_row1_col3\" class=\"data row1 col3\" >29:31.6 + 0.026</td>\n                        <td id=\"T_7b3b1_row1_col4\" class=\"data row1 col4\" >4.490000</td>\n            </tr>\n            <tr>\n                        <th id=\"T_7b3b1_level0_row2\" class=\"row_heading level0 row2\" >2</th>\n                        <td id=\"T_7b3b1_row2_col0\" class=\"data row2 col0\" >3</td>\n                        <td id=\"T_7b3b1_row2_col1\" class=\"data row2 col1\" >🥉</td>\n                        <td id=\"T_7b3b1_row2_col2\" class=\"data row2 col2\" >Flemming Bach (m)  eCKD</td>\n                        <td id=\"T_7b3b1_row2_col3\" class=\"data row2 col3\" >29:31.6 + 0.036</td>\n                        <td id=\"T_7b3b1_row2_col4\" class=\"data row2 col4\" >3.800000</td>\n            </tr>\n            <tr>\n                        <th id=\"T_7b3b1_level0_row3\" class=\"row_heading level0 row3\" >3</th>\n                        <td id=\"T_7b3b1_row3_col0\" class=\"data row3 col0\" >4</td>\n                        <td id=\"T_7b3b1_row3_col1\" class=\"data row3 col1\" >nan</td>\n                        <td id=\"T_7b3b1_row3_col2\" class=\"data row3 col2\" >Martin Jacobsen (m)</td>\n                        <td id=\"T_7b3b1_row3_col3\" class=\"data row3 col3\" >29:31.6 + 0.041</td>\n                        <td id=\"T_7b3b1_row3_col4\" class=\"data row3 col4\" >3.950000</td>\n            </tr>\n            <tr>\n                        <th id=\"T_7b3b1_level0_row4\" class=\"row_heading level0 row4\" >4</th>\n                        <td id=\"T_7b3b1_row4_col0\" class=\"data row4 col0\" >5</td>\n                        <td id=\"T_7b3b1_row4_col1\" class=\"data row4 col1\" >nan</td>\n                        <td id=\"T_7b3b1_row4_col2\" class=\"data row4 col2\" >Rasmus Feldballe(m)  eCKD</td>\n                        <td id=\"T_7b3b1_row4_col3\" class=\"data row4 col3\" >29:31.8 + 0.215</td>\n                        <td id=\"T_7b3b1_row4_col4\" class=\"data row4 col4\" >4.320000</td>\n            </tr>\n            <tr>\n                        <th id=\"T_7b3b1_level0_row5\" class=\"row_heading level0 row5\" >5</th>\n                        <td id=\"T_7b3b1_row5_col0\" class=\"data row5 col0\" >6</td>\n                        <td id=\"T_7b3b1_row5_col1\" class=\"data row5 col1\" >nan</td>\n                        <td id=\"T_7b3b1_row5_col2\" class=\"data row5 col2\" >Claus Bering (m)  eCKD</td>\n                        <td id=\"T_7b3b1_row5_col3\" class=\"data row5 col3\" >34:58.7 + 5:27.094</td>\n                        <td id=\"T_7b3b1_row5_col4\" class=\"data row5 col4\" >3.250000</td>\n            </tr>\n    </tbody></table>",
      "text/plain": "<pandas.io.formats.style.Styler at 0x120b89910>"
     },
     "execution_count": 10,
     "metadata": {},
     "output_type": "execute_result"
    }
   ],
   "source": [
    "df.style.set_caption('MRETT21')"
   ]
  }
 ],
 "metadata": {
  "kernelspec": {
   "display_name": "Python 3.9.4 64-bit ('3.9.4': pyenv)",
   "name": "python394jvsc74a57bd0b8c2fbfdbc18dcce2f88c88d9eced592630ba03493a093db37681a0349a04d97"
  },
  "language_info": {
   "codemirror_mode": {
    "name": "ipython",
    "version": 3
   },
   "file_extension": ".py",
   "mimetype": "text/x-python",
   "name": "python",
   "nbconvert_exporter": "python",
   "pygments_lexer": "ipython3",
   "version": "3.9.4"
  },
  "orig_nbformat": 2
 },
 "nbformat": 4,
 "nbformat_minor": 2
}